{
 "cells": [
  {
   "cell_type": "markdown",
   "metadata": {},
   "source": [
    "# Chapter 1. Exploratory Data Analysis"
   ]
  },
  {
   "cell_type": "markdown",
   "metadata": {},
   "source": [
    "### Elements of Structured Data\n",
    "    "
   ]
  },
  {
   "cell_type": "markdown",
   "metadata": {},
   "source": [
    "#### KEY TERMS FOR DATA TYPES"
   ]
  },
  {
   "cell_type": "markdown",
   "metadata": {},
   "source": [
    "<u>Continuous:</u><br>\n",
    "Data that can take on any value in an interval.\n",
    "\n",
    "Synonyms:<br>\n",
    "interval, float, numeric\n",
    "\n",
    "<u>Discrete:</u><br>\n",
    "Data that can take on only integer values, such as counts.\n",
    "\n",
    "Synonyms:<br>\n",
    "integer, count\n",
    "\n",
    "<u>Categorical:</u><br>\n",
    "Data that can take on only a specific set of values representing a set of possible categories.\n",
    "\n",
    "Synonyms:<br>\n",
    "enums, enumerated, factors, nominal, polychotomous\n",
    "\n",
    "<u>Binary:</u><br>\n",
    "A special case of categorical data with just two categories of values (0/1, true/false).\n",
    "\n",
    "Synonyms:<br>\n",
    "dichotomous, logical, indicator, boolean\n",
    "\n",
    "<u>Ordinal:</u><br>\n",
    "Categorical data that has an explicit ordering.\n",
    "\n",
    "Synonyms:<br>\n",
    "ordered factor"
   ]
  },
  {
   "cell_type": "markdown",
   "metadata": {},
   "source": [
    "\n",
    "#### KEY IDEAS"
   ]
  },
  {
   "cell_type": "markdown",
   "metadata": {},
   "source": [
    "Data is typically classified in software by type.\n",
    "\n",
    "Data types include continuous, discrete, categorical (which includes binary), and ordinal.\n",
    "\n",
    "Data typing in software acts as a signal to the software on how to process the data."
   ]
  },
  {
   "cell_type": "markdown",
   "metadata": {},
   "source": [
    "### Rectangular Data"
   ]
  },
  {
   "cell_type": "markdown",
   "metadata": {},
   "source": [
    "#### KEY TERMS FOR RECTANGULAR DATA"
   ]
  },
  {
   "cell_type": "markdown",
   "metadata": {},
   "source": [
    "<u>Data frame</u>:<br>\n",
    "Rectangular data (like a spreadsheet) is the basic data structure for statistical and machine learning models.\n",
    "\n",
    "<u>Feature</u>:<br>\n",
    "A column in the table is commonly referred to as a feature.\n",
    "\n",
    "Synonyms\n",
    "attribute, input, predictor, variable\n",
    "\n",
    "<u>Outcome</u>:<br>\n",
    "Many data science projects involve predicting an outcome—often a yes/no outcome (in Table 1-1, it is “auction was competitive or not”). The features are sometimes used to predict the outcome in an experiment or study.\n",
    "\n",
    "Synonyms\n",
    "dependent variable, response, target, output\n",
    "\n",
    "<u>Records</u>:<br>\n",
    "A row in the table is commonly referred to as a record.\n",
    "\n",
    "Synonyms\n",
    "case, example, instance, observation, pattern, sample"
   ]
  },
  {
   "cell_type": "markdown",
   "metadata": {},
   "source": [
    "### Estimates of Location"
   ]
  },
  {
   "cell_type": "markdown",
   "metadata": {},
   "source": [
    "#### KEY TERMS FOR ESTIMATES OF LOCATION"
   ]
  },
  {
   "cell_type": "markdown",
   "metadata": {},
   "source": [
    "Mean:<br>\n",
    "The sum of all values divided by the number of values.\n",
    "\n",
    "Synonyms:<br>\n",
    "average\n",
    "\n",
    "Weighted mean:<br>\n",
    "The sum of all values times a weight divided by the sum of the weights.\n",
    "\n",
    "Synonyms<br>\n",
    "weighted average\n",
    "\n",
    "Median:<br>\n",
    "The value such that one-half of the data lies above and below.\n",
    "\n",
    "Synonyms:<br>\n",
    "50th percentile\n",
    "\n",
    "Weighted median:<br>\n",
    "The value such that one-half of the sum of the weights lies above and below the sorted data.\n",
    "\n",
    "Trimmed mean:<br>\n",
    "The average of all values after dropping a fixed number of extreme values.\n",
    "\n",
    "Synonyms:<br>\n",
    "truncated mean\n",
    "\n",
    "Robust:<br>\n",
    "Not sensitive to extreme values.\n",
    "\n",
    "Synonyms:<br>\n",
    "resistant\n",
    "\n",
    "Outlier:<br>\n",
    "A data value that is very different from most of the data.\n",
    "\n",
    "Synonyms:<br>\n",
    "extreme value"
   ]
  },
  {
   "cell_type": "code",
   "execution_count": 60,
   "metadata": {
    "collapsed": false
   },
   "outputs": [],
   "source": [
    "# fold_path  = r'C:\\Users\\966317\\Desktop\\statistics-for-data-scientists-master\\statistics-for-data-scientists\\data'\n",
    "fold_path = '/home/danny/Desktop/psfd2/data'\n",
    "import os\n",
    "os.chdir(fold_path)\n",
    "# state_file_path = os.path.join(fold_path,'state.csv')"
   ]
  },
  {
   "cell_type": "code",
   "execution_count": 61,
   "metadata": {
    "collapsed": false
   },
   "outputs": [],
   "source": [
    "import pandas as pd\n",
    "df_state = pd.read_csv('state.csv')"
   ]
  },
  {
   "cell_type": "markdown",
   "metadata": {},
   "source": [
    "##### Finding Mean"
   ]
  },
  {
   "cell_type": "code",
   "execution_count": 62,
   "metadata": {
    "collapsed": false
   },
   "outputs": [
    {
     "data": {
      "text/plain": [
       "(6162876.3, 6162876.3)"
      ]
     },
     "execution_count": 62,
     "metadata": {},
     "output_type": "execute_result"
    }
   ],
   "source": [
    "import numpy as np\n",
    "# 2 ways to find mean are\n",
    "np.mean(df_state['Population']),df_state['Population'].mean()"
   ]
  },
  {
   "cell_type": "markdown",
   "metadata": {},
   "source": [
    "##### Finding Trimmed mean"
   ]
  },
  {
   "cell_type": "code",
   "execution_count": 63,
   "metadata": {
    "collapsed": false
   },
   "outputs": [
    {
     "data": {
      "text/plain": [
       "4783697.125"
      ]
     },
     "execution_count": 63,
     "metadata": {},
     "output_type": "execute_result"
    }
   ],
   "source": [
    "from scipy.stats import trim_mean\n",
    "trim_mean(df_state['Population'],0.1)"
   ]
  },
  {
   "cell_type": "markdown",
   "metadata": {},
   "source": [
    "##### Finding Median"
   ]
  },
  {
   "cell_type": "code",
   "execution_count": 64,
   "metadata": {
    "collapsed": false
   },
   "outputs": [
    {
     "data": {
      "text/plain": [
       "4436369.5"
      ]
     },
     "execution_count": 64,
     "metadata": {},
     "output_type": "execute_result"
    }
   ],
   "source": [
    "from numpy import median\n",
    "median(df_state['Population'])"
   ]
  },
  {
   "cell_type": "markdown",
   "metadata": {},
   "source": [
    "##### Finding Weighted mean"
   ]
  },
  {
   "cell_type": "code",
   "execution_count": 65,
   "metadata": {
    "collapsed": false
   },
   "outputs": [
    {
     "data": {
      "text/plain": [
       "4.4458339811233927"
      ]
     },
     "execution_count": 65,
     "metadata": {},
     "output_type": "execute_result"
    }
   ],
   "source": [
    "from numpy import average\n",
    "average(df_state['Murder.Rate'], weights=df_state['Population'])"
   ]
  },
  {
   "cell_type": "markdown",
   "metadata": {},
   "source": [
    "##### Finding Weighted median"
   ]
  },
  {
   "cell_type": "code",
   "execution_count": 66,
   "metadata": {
    "collapsed": false
   },
   "outputs": [
    {
     "data": {
      "text/plain": [
       "4.4000000000000004"
      ]
     },
     "execution_count": 66,
     "metadata": {},
     "output_type": "execute_result"
    }
   ],
   "source": [
    "import weightedstats as ws\n",
    "ws.weighted_median(df_state['Murder.Rate'], weights=df_state['Population'])"
   ]
  },
  {
   "cell_type": "markdown",
   "metadata": {},
   "source": [
    "##### KEY IDEAS"
   ]
  },
  {
   "cell_type": "raw",
   "metadata": {},
   "source": [
    "The basic metric for location is the mean, but it can be sensitive to extreme values (outlier).\n",
    "\n",
    "Other metrics (median, trimmed mean) are more robust."
   ]
  },
  {
   "cell_type": "markdown",
   "metadata": {},
   "source": [
    "### Estimates of Variability"
   ]
  },
  {
   "cell_type": "markdown",
   "metadata": {},
   "source": [
    "##### KEY TERMS FOR VARIABILITY METRICS"
   ]
  },
  {
   "cell_type": "markdown",
   "metadata": {},
   "source": [
    "Deviations:<br>\n",
    "The difference between the observed values and the estimate of location.\n",
    "\n",
    "Synonyms:<br>\n",
    "errors, residuals\n",
    "\n",
    "Variance:<br>\n",
    "The sum of squared deviations from the mean divided by n – 1 where n is the number of data values.\n",
    "\n",
    "Synonyms:<br>\n",
    "mean-squared-error\n",
    "\n",
    "Standard deviation:<br>\n",
    "The square root of the variance.\n",
    "\n",
    "Synonyms:<br>\n",
    "l2-norm, Euclidean norm\n",
    "\n",
    "Mean absolute deviation:<br>\n",
    "The mean of the absolute value of the deviations from the mean.\n",
    "\n",
    "Synonyms:<br>\n",
    "l1-norm, Manhattan norm\n",
    "\n",
    "Median absolute deviation from the median:<br>\n",
    "The median of the absolute value of the deviations from the median.\n",
    "\n",
    "Range:<br>\n",
    "The difference between the largest and the smallest value in a data set.\n",
    "\n",
    "Order statistics:<br>\n",
    "Metrics based on the data values sorted from smallest to biggest.\n",
    "\n",
    "Synonyms:<br>\n",
    "ranks\n",
    "\n",
    "Percentile:<br>\n",
    "The value such that P percent of the values take on this value or less and (100–P) percent take on this value or more.\n",
    "\n",
    "Synonyms:<br>\n",
    "quantile\n",
    "\n",
    "Interquartile range:<br>\n",
    "The difference between the 75th percentile and the 25th percentile.\n",
    "\n",
    "Synonyms:<br>\n",
    "IQR"
   ]
  },
  {
   "cell_type": "markdown",
   "metadata": {},
   "source": [
    "##### Finding Standard Deviation"
   ]
  },
  {
   "cell_type": "code",
   "execution_count": 67,
   "metadata": {
    "collapsed": false
   },
   "outputs": [
    {
     "data": {
      "text/plain": [
       "Population    6.779407e+06\n",
       "dtype: float64"
      ]
     },
     "execution_count": 67,
     "metadata": {},
     "output_type": "execute_result"
    }
   ],
   "source": [
    "from numpy import std\n",
    "std(df_state[[\"Population\"]])"
   ]
  },
  {
   "cell_type": "markdown",
   "metadata": {},
   "source": [
    "##### Finding IQR"
   ]
  },
  {
   "cell_type": "code",
   "execution_count": 68,
   "metadata": {
    "collapsed": false
   },
   "outputs": [
    {
     "data": {
      "text/plain": [
       "4847308.0"
      ]
     },
     "execution_count": 68,
     "metadata": {},
     "output_type": "execute_result"
    }
   ],
   "source": [
    "from scipy.stats import iqr\n",
    "iqr(df_state[[\"Population\"]])"
   ]
  },
  {
   "cell_type": "markdown",
   "metadata": {},
   "source": [
    "##### Finding Mean absolute deviation"
   ]
  },
  {
   "cell_type": "code",
   "execution_count": 69,
   "metadata": {
    "collapsed": false
   },
   "outputs": [
    {
     "data": {
      "text/plain": [
       "4450933.3560000006"
      ]
     },
     "execution_count": 69,
     "metadata": {},
     "output_type": "execute_result"
    }
   ],
   "source": [
    "from numpy import mean, absolute\n",
    "\n",
    "def mean_ad(data, axis=None):\n",
    "    return mean(absolute(data - mean(data, axis)), axis)\n",
    "mean_ad(df_state[\"Population\"].values)"
   ]
  },
  {
   "cell_type": "code",
   "execution_count": 70,
   "metadata": {
    "collapsed": false
   },
   "outputs": [
    {
     "data": {
      "text/plain": [
       "4450933.356000001"
      ]
     },
     "execution_count": 70,
     "metadata": {},
     "output_type": "execute_result"
    }
   ],
   "source": [
    "df_state[\"Population\"].mad()"
   ]
  },
  {
   "cell_type": "markdown",
   "metadata": {},
   "source": [
    "##### Finding Median absolute deviation"
   ]
  },
  {
   "cell_type": "code",
   "execution_count": 71,
   "metadata": {
    "collapsed": false
   },
   "outputs": [
    {
     "data": {
      "text/plain": [
       "3430658.2999999998"
      ]
     },
     "execution_count": 71,
     "metadata": {},
     "output_type": "execute_result"
    }
   ],
   "source": [
    "from numpy import median, absolute\n",
    "\n",
    "def median_ad(data, axis=None):\n",
    "    return median(absolute(data - mean(data, axis)), axis)\n",
    "median_ad(df_state[\"Population\"].values)"
   ]
  },
  {
   "cell_type": "code",
   "execution_count": 72,
   "metadata": {
    "collapsed": false
   },
   "outputs": [
    {
     "data": {
      "text/plain": [
       "2596702.0"
      ]
     },
     "execution_count": 72,
     "metadata": {},
     "output_type": "execute_result"
    }
   ],
   "source": [
    "from astropy.stats import median_absolute_deviation\n",
    "median_absolute_deviation(df_state[\"Population\"].values)"
   ]
  },
  {
   "cell_type": "markdown",
   "metadata": {},
   "source": [
    "##### KEY IDEAS"
   ]
  },
  {
   "cell_type": "markdown",
   "metadata": {},
   "source": [
    "The variance and standard deviation are the most widespread and routinely reported statistics of variability.\n",
    "\n",
    "Both are sensitive to outliers.\n",
    "\n",
    "More robust metrics include mean and median absolute deviations from the mean and percentiles (quantiles)."
   ]
  },
  {
   "cell_type": "markdown",
   "metadata": {},
   "source": [
    "### Exploring the Data Distribution"
   ]
  },
  {
   "cell_type": "markdown",
   "metadata": {},
   "source": [
    "##### KEY TERMS FOR EXPLORING THE DISTRIBUTION"
   ]
  },
  {
   "cell_type": "markdown",
   "metadata": {},
   "source": [
    "Boxplot:<br>\n",
    "A plot introduced by Tukey as a quick way to visualize the distribution of data.\n",
    "\n",
    "Synonyms:<br>\n",
    "Box and whiskers plot\n",
    "\n",
    "Frequency table:<br>\n",
    "A tally of the count of numeric data values that fall into a set of intervals (bins).\n",
    "\n",
    "Histogram:<br>\n",
    "A plot of the frequency table with the bins on the x-axis and the count (or proportion) on the y-axis.\n",
    "\n",
    "Density plot:<br>\n",
    "A smoothed version of the histogram, often based on a kernal density estimate."
   ]
  },
  {
   "cell_type": "markdown",
   "metadata": {},
   "source": [
    "##### Percentile"
   ]
  },
  {
   "cell_type": "code",
   "execution_count": 73,
   "metadata": {
    "collapsed": false
   },
   "outputs": [
    {
     "data": {
      "text/plain": [
       "0.05    1.600\n",
       "0.25    2.425\n",
       "0.50    4.000\n",
       "0.75    5.550\n",
       "0.95    6.510\n",
       "Name: Murder.Rate, dtype: float64"
      ]
     },
     "execution_count": 73,
     "metadata": {},
     "output_type": "execute_result"
    }
   ],
   "source": [
    "df_state['Murder.Rate'].quantile([.05, .25, .5, .75, .95])"
   ]
  },
  {
   "cell_type": "markdown",
   "metadata": {},
   "source": [
    "##### Boxplot"
   ]
  },
  {
   "cell_type": "code",
   "execution_count": 74,
   "metadata": {
    "collapsed": false,
    "scrolled": false
   },
   "outputs": [
    {
     "data": {
      "text/plain": [
       "<matplotlib.text.Text at 0x7f18ca7951d0>"
      ]
     },
     "execution_count": 74,
     "metadata": {},
     "output_type": "execute_result"
    },
    {
     "data": {
      "image/png": "[encoded data removed]",
      "text/plain": [
       "<matplotlib.figure.Figure at 0x7f18cb6e77b8>"
      ]
     },
     "metadata": {},
     "output_type": "display_data"
    }
   ],
   "source": [
    "%matplotlib inline\n",
    "import matplotlib.pyplot as plt\n",
    "plt.style.use('ggplot')\n",
    "df_state[\"Population\"].plot(kind='box')\n",
    "plt.ylabel('Population (millions)')"
   ]
  },
  {
   "cell_type": "markdown",
   "metadata": {},
   "source": [
    "##### Frequency Table"
   ]
  },
  {
   "cell_type": "code",
   "execution_count": 75,
   "metadata": {
    "collapsed": false
   },
   "outputs": [
    {
     "data": {
      "text/plain": [
       "(526935.669, 3899110.545]       24\n",
       "(3899110.545, 7234595.091]      14\n",
       "(7234595.091, 10570079.636]      5\n",
       "(10570079.636, 13905564.182]     3\n",
       "(13905564.182, 17241048.727]     0\n",
       "(17241048.727, 20576533.273]     2\n",
       "(20576533.273, 23912017.818]     0\n",
       "(23912017.818, 27247502.364]     1\n",
       "(27247502.364, 30582986.909]     0\n",
       "(30582986.909, 33918471.455]     0\n",
       "(33918471.455, 37253956.0]       1\n",
       "dtype: int64"
      ]
     },
     "execution_count": 75,
     "metadata": {},
     "output_type": "execute_result"
    }
   ],
   "source": [
    "pop_binned = pd.cut(np.array(df_state[\"Population\"]), 11, right=True, include_lowest=True)\n",
    "pop_binned.value_counts()"
   ]
  },
  {
   "cell_type": "markdown",
   "metadata": {},
   "source": [
    "##### Histogram"
   ]
  },
  {
   "cell_type": "code",
   "execution_count": 76,
   "metadata": {
    "collapsed": false
   },
   "outputs": [
    {
     "data": {
      "text/plain": [
       "<matplotlib.text.Text at 0x7f18ca70cdd8>"
      ]
     },
     "execution_count": 76,
     "metadata": {},
     "output_type": "execute_result"
    },
    {
     "data": {
      "image/png": "[encoded data removed]",
      "text/plain": [
       "<matplotlib.figure.Figure at 0x7f18ca79d048>"
      ]
     },
     "metadata": {},
     "output_type": "display_data"
    }
   ],
   "source": [
    "cuts = [intv.right for intv in pop_binned.categories]\n",
    "plt.xticks(cuts)\n",
    "plt.hist(df_state['Population'], bins=cuts)\n",
    "plt.xlabel('Population')\n",
    "plt.ylabel('Frequency')"
   ]
  },
  {
   "cell_type": "markdown",
   "metadata": {},
   "source": [
    "##### Density Estimates"
   ]
  },
  {
   "cell_type": "code",
   "execution_count": 77,
   "metadata": {
    "collapsed": false
   },
   "outputs": [
    {
     "data": {
      "text/plain": [
       "<matplotlib.text.Text at 0x7f18ca6d8d68>"
      ]
     },
     "execution_count": 77,
     "metadata": {},
     "output_type": "execute_result"
    },
    {
     "data": {
      "image/png": "[encoded data removed]",
      "text/plain": [
       "<matplotlib.figure.Figure at 0x7f18ca8e6f98>"
      ]
     },
     "metadata": {},
     "output_type": "display_data"
    }
   ],
   "source": [
    "plt.hist(df_state['Murder.Rate'].values,normed=True)\n",
    "df_state['Murder.Rate'].plot(kind='density')\n",
    "plt.xlabel('Murder rate (100,000)')"
   ]
  },
  {
   "cell_type": "markdown",
   "metadata": {
    "collapsed": false
   },
   "source": [
    "##### KEY TERMS FOR EXPLORING CATEGORICAL DATA"
   ]
  },
  {
   "cell_type": "markdown",
   "metadata": {},
   "source": [
    "Mode:<br>\n",
    "The most commonly occurring category or value in a data set.\n",
    "\n",
    "Expected value:<br>\n",
    "When the categories can be associated with a numeric value, this gives an average value based on\n",
    "a category’s probability of occurrence.\n",
    "\n",
    "Bar charts:<br>\n",
    "The frequency or proportion for each category plotted as bars.\n",
    "\n",
    "Pie charts:<br>\n",
    "The frequency or proportion for each category plotted as wedges in a pie."
   ]
  },
  {
   "cell_type": "markdown",
   "metadata": {},
   "source": [
    "##### Barplot"
   ]
  },
  {
   "cell_type": "code",
   "execution_count": 78,
   "metadata": {
    "collapsed": false
   },
   "outputs": [],
   "source": [
    "dfw = pd.read_csv('dfw_airline.csv')"
   ]
  },
  {
   "cell_type": "code",
   "execution_count": 79,
   "metadata": {
    "collapsed": false
   },
   "outputs": [
    {
     "data": {
      "text/plain": [
       "<matplotlib.axes._subplots.AxesSubplot at 0x7f18ca67ddd8>"
      ]
     },
     "execution_count": 79,
     "metadata": {},
     "output_type": "execute_result"
    },
    {
     "data": {
      "image/png": "[encoded data removed]",
      "text/plain": [
       "<matplotlib.figure.Figure at 0x7f18ca770470>"
      ]
     },
     "metadata": {},
     "output_type": "display_data"
    }
   ],
   "source": [
    "dfw.plot(kind='bar')"
   ]
  },
  {
   "cell_type": "markdown",
   "metadata": {},
   "source": [
    "##### Correlation"
   ]
  },
  {
   "cell_type": "code",
   "execution_count": 80,
   "metadata": {
    "collapsed": false
   },
   "outputs": [],
   "source": [
    "sp500_sym_file_path = os.path.join(fold_path, 'sp500_sym.csv')\n",
    "sp500_sym = pd.read_csv(sp500_sym_file_path)\n",
    "sp500_px_file_path = os.path.join(fold_path, 'sp500_px.csv')\n",
    "sp500_px = pd.read_csv(sp500_px_file_path, infer_datetime_format=True, index_col=0,parse_dates=True)"
   ]
  },
  {
   "cell_type": "code",
   "execution_count": 81,
   "metadata": {
    "collapsed": false
   },
   "outputs": [],
   "source": [
    "rows = sp500_px.index > '2012-07-01' \n",
    "cols = sp500_sym[sp500_sym['sector'] == 'etf']['symbol'].values\n",
    "etfs = sp500_px.loc[rows,cols]"
   ]
  },
  {
   "cell_type": "code",
   "execution_count": 82,
   "metadata": {
    "collapsed": false
   },
   "outputs": [
    {
     "data": {
      "text/plain": [
       "<matplotlib.axes._subplots.AxesSubplot at 0x7f18ca577358>"
      ]
     },
     "execution_count": 82,
     "metadata": {},
     "output_type": "execute_result"
    },
    {
     "data": {
      "image/png": "[encoded data removed]",
      "text/plain": [
       "<matplotlib.figure.Figure at 0x7f18cb4cefd0>"
      ]
     },
     "metadata": {},
     "output_type": "display_data"
    }
   ],
   "source": [
    "import seaborn as sns\n",
    "corr = etfs.corr()\n",
    "cmap = sns.diverging_palette(10, 220, as_cmap=True)\n",
    "sns.heatmap(corr, \n",
    "            xticklabels=corr.columns.values,\n",
    "            yticklabels=corr.columns.values,cmap=cmap)"
   ]
  },
  {
   "cell_type": "markdown",
   "metadata": {},
   "source": [
    "##### Scatterplot"
   ]
  },
  {
   "cell_type": "code",
   "execution_count": 83,
   "metadata": {
    "collapsed": false
   },
   "outputs": [
    {
     "data": {
      "text/plain": [
       "<matplotlib.text.Text at 0x7f18ca5772e8>"
      ]
     },
     "execution_count": 83,
     "metadata": {},
     "output_type": "execute_result"
    },
    {
     "data": {
      "image/png": "[encoded data removed]",
      "text/plain": [
       "<matplotlib.figure.Figure at 0x7f18d2577c50>"
      ]
     },
     "metadata": {},
     "output_type": "display_data"
    }
   ],
   "source": [
    "# telecom <- sp500_px[, sp500_sym[sp500_sym$sector==\"telecommunications_services\", 'symbol']]\n",
    "cols = sp500_sym[sp500_sym['sector']=='telecommunications_services']['symbol'].values\n",
    "telecom = sp500_px[cols]\n",
    "plt.scatter(telecom['T'], telecom['VZ'])\n",
    "plt.ylabel('T')\n",
    "plt.xlabel('VZ')"
   ]
  },
  {
   "cell_type": "markdown",
   "metadata": {},
   "source": [
    "### KEY IDEAS FOR CORRELATION"
   ]
  },
  {
   "cell_type": "markdown",
   "metadata": {},
   "source": [
    "The correlation coefficient measures the extent to which two variables are associated with one another.\n",
    "\n",
    "When high values of v1 go with high values of v2, v1 and v2 are positively associated.\n",
    "\n",
    "When high values of v1 are associated with low values of v2, v1 and v2 are negatively associated.\n",
    "\n",
    "The correlation coefficient is a standardized metric so that it always ranges from –1 (perfect negative correlation) to +1 (perfect positive correlation).\n",
    "\n",
    "A correlation coefficient of 0 indicates no correlation, but be aware that random arrangements of data will produce both positive and negative values for the correlation coefficient just by chance."
   ]
  },
  {
   "cell_type": "code",
   "execution_count": null,
   "metadata": {
    "collapsed": true
   },
   "outputs": [],
   "source": []
  },
  {
   "cell_type": "code",
   "execution_count": 84,
   "metadata": {
    "collapsed": false
   },
   "outputs": [
    {
     "data": {
      "text/plain": [
       "<matplotlib.axes._subplots.AxesSubplot at 0x7f18ca474d68>"
      ]
     },
     "execution_count": 84,
     "metadata": {},
     "output_type": "execute_result"
    },
    {
     "data": {
      "image/png": "[encoded data removed]",
      "text/plain": [
       "<matplotlib.figure.Figure at 0x7f18ca4078d0>"
      ]
     },
     "metadata": {},
     "output_type": "display_data"
    }
   ],
   "source": [
    ">>> df = pd.DataFrame(np.random.randn(1000, 2), columns=['a', 'b'])\n",
    ">>> df['b'] = df['b'] + np.arange(1000)\n",
    ">>> df.plot(kind='hexbin', x='a', y='b', gridsize=25)"
   ]
  },
  {
   "cell_type": "code",
   "execution_count": 85,
   "metadata": {
    "collapsed": true
   },
   "outputs": [],
   "source": [
    "kc_tax = pd.read_csv('kc_tax.csv')"
   ]
  },
  {
   "cell_type": "code",
   "execution_count": 96,
   "metadata": {
    "collapsed": false
   },
   "outputs": [],
   "source": [
    "kc_tax = kc_tax[(kc_tax['TaxAssessedValue'] < 750000) & (kc_tax['SqFtTotLiving'] >100) & (kc_tax['SqFtTotLiving'] <3500)]"
   ]
  },
  {
   "cell_type": "code",
   "execution_count": 97,
   "metadata": {
    "collapsed": false
   },
   "outputs": [
    {
     "data": {
      "text/html": [
       "<div>\n",
       "<style>\n",
       "    .dataframe thead tr:only-child th {\n",
       "        text-align: right;\n",
       "    }\n",
       "\n",
       "    .dataframe thead th {\n",
       "        text-align: left;\n",
       "    }\n",
       "\n",
       "    .dataframe tbody tr th {\n",
       "        vertical-align: top;\n",
       "    }\n",
       "</style>\n",
       "<table border=\"1\" class=\"dataframe\">\n",
       "  <thead>\n",
       "    <tr style=\"text-align: right;\">\n",
       "      <th></th>\n",
       "      <th>TaxAssessedValue</th>\n",
       "      <th>SqFtTotLiving</th>\n",
       "      <th>ZipCode</th>\n",
       "    </tr>\n",
       "  </thead>\n",
       "  <tbody>\n",
       "    <tr>\n",
       "      <th>1</th>\n",
       "      <td>206000.0</td>\n",
       "      <td>1870</td>\n",
       "      <td>98002.0</td>\n",
       "    </tr>\n",
       "    <tr>\n",
       "      <th>2</th>\n",
       "      <td>303000.0</td>\n",
       "      <td>1530</td>\n",
       "      <td>98166.0</td>\n",
       "    </tr>\n",
       "    <tr>\n",
       "      <th>3</th>\n",
       "      <td>361000.0</td>\n",
       "      <td>2000</td>\n",
       "      <td>98108.0</td>\n",
       "    </tr>\n",
       "    <tr>\n",
       "      <th>4</th>\n",
       "      <td>459000.0</td>\n",
       "      <td>3150</td>\n",
       "      <td>98108.0</td>\n",
       "    </tr>\n",
       "    <tr>\n",
       "      <th>5</th>\n",
       "      <td>223000.0</td>\n",
       "      <td>1570</td>\n",
       "      <td>98032.0</td>\n",
       "    </tr>\n",
       "    <tr>\n",
       "      <th>6</th>\n",
       "      <td>259000.0</td>\n",
       "      <td>1770</td>\n",
       "      <td>98168.0</td>\n",
       "    </tr>\n",
       "    <tr>\n",
       "      <th>7</th>\n",
       "      <td>175000.0</td>\n",
       "      <td>1150</td>\n",
       "      <td>98168.0</td>\n",
       "    </tr>\n",
       "    <tr>\n",
       "      <th>8</th>\n",
       "      <td>178000.0</td>\n",
       "      <td>1980</td>\n",
       "      <td>98168.0</td>\n",
       "    </tr>\n",
       "    <tr>\n",
       "      <th>9</th>\n",
       "      <td>186000.0</td>\n",
       "      <td>1490</td>\n",
       "      <td>98168.0</td>\n",
       "    </tr>\n",
       "    <tr>\n",
       "      <th>10</th>\n",
       "      <td>202000.0</td>\n",
       "      <td>830</td>\n",
       "      <td>98108.0</td>\n",
       "    </tr>\n",
       "    <tr>\n",
       "      <th>11</th>\n",
       "      <td>210000.0</td>\n",
       "      <td>1130</td>\n",
       "      <td>98108.0</td>\n",
       "    </tr>\n",
       "    <tr>\n",
       "      <th>12</th>\n",
       "      <td>193000.0</td>\n",
       "      <td>1560</td>\n",
       "      <td>98108.0</td>\n",
       "    </tr>\n",
       "    <tr>\n",
       "      <th>13</th>\n",
       "      <td>299000.0</td>\n",
       "      <td>2340</td>\n",
       "      <td>98108.0</td>\n",
       "    </tr>\n",
       "    <tr>\n",
       "      <th>14</th>\n",
       "      <td>196000.0</td>\n",
       "      <td>1152</td>\n",
       "      <td>NaN</td>\n",
       "    </tr>\n",
       "    <tr>\n",
       "      <th>15</th>\n",
       "      <td>167000.0</td>\n",
       "      <td>880</td>\n",
       "      <td>98055.0</td>\n",
       "    </tr>\n",
       "    <tr>\n",
       "      <th>16</th>\n",
       "      <td>236000.0</td>\n",
       "      <td>1520</td>\n",
       "      <td>98055.0</td>\n",
       "    </tr>\n",
       "    <tr>\n",
       "      <th>17</th>\n",
       "      <td>221000.0</td>\n",
       "      <td>1630</td>\n",
       "      <td>98055.0</td>\n",
       "    </tr>\n",
       "    <tr>\n",
       "      <th>18</th>\n",
       "      <td>321000.0</td>\n",
       "      <td>700</td>\n",
       "      <td>98122.0</td>\n",
       "    </tr>\n",
       "    <tr>\n",
       "      <th>19</th>\n",
       "      <td>420000.0</td>\n",
       "      <td>1470</td>\n",
       "      <td>NaN</td>\n",
       "    </tr>\n",
       "    <tr>\n",
       "      <th>20</th>\n",
       "      <td>346000.0</td>\n",
       "      <td>1170</td>\n",
       "      <td>98116.0</td>\n",
       "    </tr>\n",
       "    <tr>\n",
       "      <th>21</th>\n",
       "      <td>475000.0</td>\n",
       "      <td>1530</td>\n",
       "      <td>98007.0</td>\n",
       "    </tr>\n",
       "    <tr>\n",
       "      <th>22</th>\n",
       "      <td>517000.0</td>\n",
       "      <td>1910</td>\n",
       "      <td>98007.0</td>\n",
       "    </tr>\n",
       "    <tr>\n",
       "      <th>23</th>\n",
       "      <td>650000.0</td>\n",
       "      <td>2480</td>\n",
       "      <td>98052.0</td>\n",
       "    </tr>\n",
       "    <tr>\n",
       "      <th>24</th>\n",
       "      <td>375000.0</td>\n",
       "      <td>2600</td>\n",
       "      <td>98038.0</td>\n",
       "    </tr>\n",
       "    <tr>\n",
       "      <th>25</th>\n",
       "      <td>423000.0</td>\n",
       "      <td>2480</td>\n",
       "      <td>98038.0</td>\n",
       "    </tr>\n",
       "    <tr>\n",
       "      <th>27</th>\n",
       "      <td>485000.0</td>\n",
       "      <td>2120</td>\n",
       "      <td>98146.0</td>\n",
       "    </tr>\n",
       "    <tr>\n",
       "      <th>30</th>\n",
       "      <td>347000.0</td>\n",
       "      <td>1400</td>\n",
       "      <td>98146.0</td>\n",
       "    </tr>\n",
       "    <tr>\n",
       "      <th>31</th>\n",
       "      <td>445000.0</td>\n",
       "      <td>2810</td>\n",
       "      <td>98146.0</td>\n",
       "    </tr>\n",
       "    <tr>\n",
       "      <th>33</th>\n",
       "      <td>208000.0</td>\n",
       "      <td>2020</td>\n",
       "      <td>98178.0</td>\n",
       "    </tr>\n",
       "    <tr>\n",
       "      <th>34</th>\n",
       "      <td>284000.0</td>\n",
       "      <td>2340</td>\n",
       "      <td>98118.0</td>\n",
       "    </tr>\n",
       "    <tr>\n",
       "      <th>...</th>\n",
       "      <td>...</td>\n",
       "      <td>...</td>\n",
       "      <td>...</td>\n",
       "    </tr>\n",
       "    <tr>\n",
       "      <th>498213</th>\n",
       "      <td>442000.0</td>\n",
       "      <td>2010</td>\n",
       "      <td>98056.0</td>\n",
       "    </tr>\n",
       "    <tr>\n",
       "      <th>498214</th>\n",
       "      <td>285000.0</td>\n",
       "      <td>1170</td>\n",
       "      <td>98056.0</td>\n",
       "    </tr>\n",
       "    <tr>\n",
       "      <th>498215</th>\n",
       "      <td>334000.0</td>\n",
       "      <td>1300</td>\n",
       "      <td>98056.0</td>\n",
       "    </tr>\n",
       "    <tr>\n",
       "      <th>498216</th>\n",
       "      <td>337000.0</td>\n",
       "      <td>1920</td>\n",
       "      <td>98056.0</td>\n",
       "    </tr>\n",
       "    <tr>\n",
       "      <th>498217</th>\n",
       "      <td>594000.0</td>\n",
       "      <td>3180</td>\n",
       "      <td>98056.0</td>\n",
       "    </tr>\n",
       "    <tr>\n",
       "      <th>498218</th>\n",
       "      <td>666000.0</td>\n",
       "      <td>1240</td>\n",
       "      <td>98056.0</td>\n",
       "    </tr>\n",
       "    <tr>\n",
       "      <th>498220</th>\n",
       "      <td>387000.0</td>\n",
       "      <td>1000</td>\n",
       "      <td>98056.0</td>\n",
       "    </tr>\n",
       "    <tr>\n",
       "      <th>498221</th>\n",
       "      <td>586000.0</td>\n",
       "      <td>2640</td>\n",
       "      <td>98056.0</td>\n",
       "    </tr>\n",
       "    <tr>\n",
       "      <th>498222</th>\n",
       "      <td>427000.0</td>\n",
       "      <td>1580</td>\n",
       "      <td>98056.0</td>\n",
       "    </tr>\n",
       "    <tr>\n",
       "      <th>498223</th>\n",
       "      <td>427000.0</td>\n",
       "      <td>880</td>\n",
       "      <td>98056.0</td>\n",
       "    </tr>\n",
       "    <tr>\n",
       "      <th>498224</th>\n",
       "      <td>325000.0</td>\n",
       "      <td>1042</td>\n",
       "      <td>98056.0</td>\n",
       "    </tr>\n",
       "    <tr>\n",
       "      <th>498225</th>\n",
       "      <td>275000.0</td>\n",
       "      <td>1060</td>\n",
       "      <td>98056.0</td>\n",
       "    </tr>\n",
       "    <tr>\n",
       "      <th>498226</th>\n",
       "      <td>421000.0</td>\n",
       "      <td>2360</td>\n",
       "      <td>98056.0</td>\n",
       "    </tr>\n",
       "    <tr>\n",
       "      <th>498227</th>\n",
       "      <td>590000.0</td>\n",
       "      <td>2360</td>\n",
       "      <td>98056.0</td>\n",
       "    </tr>\n",
       "    <tr>\n",
       "      <th>498228</th>\n",
       "      <td>639000.0</td>\n",
       "      <td>3290</td>\n",
       "      <td>98056.0</td>\n",
       "    </tr>\n",
       "    <tr>\n",
       "      <th>498229</th>\n",
       "      <td>479000.0</td>\n",
       "      <td>2120</td>\n",
       "      <td>98056.0</td>\n",
       "    </tr>\n",
       "    <tr>\n",
       "      <th>498230</th>\n",
       "      <td>391000.0</td>\n",
       "      <td>2840</td>\n",
       "      <td>98056.0</td>\n",
       "    </tr>\n",
       "    <tr>\n",
       "      <th>498233</th>\n",
       "      <td>414000.0</td>\n",
       "      <td>1940</td>\n",
       "      <td>98056.0</td>\n",
       "    </tr>\n",
       "    <tr>\n",
       "      <th>498234</th>\n",
       "      <td>463000.0</td>\n",
       "      <td>2560</td>\n",
       "      <td>98056.0</td>\n",
       "    </tr>\n",
       "    <tr>\n",
       "      <th>498235</th>\n",
       "      <td>613000.0</td>\n",
       "      <td>3050</td>\n",
       "      <td>98006.0</td>\n",
       "    </tr>\n",
       "    <tr>\n",
       "      <th>498239</th>\n",
       "      <td>427000.0</td>\n",
       "      <td>2410</td>\n",
       "      <td>98056.0</td>\n",
       "    </tr>\n",
       "    <tr>\n",
       "      <th>498240</th>\n",
       "      <td>247000.0</td>\n",
       "      <td>990</td>\n",
       "      <td>98056.0</td>\n",
       "    </tr>\n",
       "    <tr>\n",
       "      <th>498241</th>\n",
       "      <td>247000.0</td>\n",
       "      <td>980</td>\n",
       "      <td>98056.0</td>\n",
       "    </tr>\n",
       "    <tr>\n",
       "      <th>498242</th>\n",
       "      <td>312000.0</td>\n",
       "      <td>1660</td>\n",
       "      <td>98056.0</td>\n",
       "    </tr>\n",
       "    <tr>\n",
       "      <th>498243</th>\n",
       "      <td>392000.0</td>\n",
       "      <td>2570</td>\n",
       "      <td>98056.0</td>\n",
       "    </tr>\n",
       "    <tr>\n",
       "      <th>498244</th>\n",
       "      <td>375000.0</td>\n",
       "      <td>2230</td>\n",
       "      <td>98056.0</td>\n",
       "    </tr>\n",
       "    <tr>\n",
       "      <th>498245</th>\n",
       "      <td>316000.0</td>\n",
       "      <td>1710</td>\n",
       "      <td>98056.0</td>\n",
       "    </tr>\n",
       "    <tr>\n",
       "      <th>498246</th>\n",
       "      <td>340000.0</td>\n",
       "      <td>1930</td>\n",
       "      <td>98056.0</td>\n",
       "    </tr>\n",
       "    <tr>\n",
       "      <th>498247</th>\n",
       "      <td>132000.0</td>\n",
       "      <td>2930</td>\n",
       "      <td>98056.0</td>\n",
       "    </tr>\n",
       "    <tr>\n",
       "      <th>498248</th>\n",
       "      <td>286000.0</td>\n",
       "      <td>1310</td>\n",
       "      <td>98056.0</td>\n",
       "    </tr>\n",
       "  </tbody>\n",
       "</table>\n",
       "<p>432693 rows × 3 columns</p>\n",
       "</div>"
      ],
      "text/plain": [
       "        TaxAssessedValue  SqFtTotLiving  ZipCode\n",
       "1               206000.0           1870  98002.0\n",
       "2               303000.0           1530  98166.0\n",
       "3               361000.0           2000  98108.0\n",
       "4               459000.0           3150  98108.0\n",
       "5               223000.0           1570  98032.0\n",
       "6               259000.0           1770  98168.0\n",
       "7               175000.0           1150  98168.0\n",
       "8               178000.0           1980  98168.0\n",
       "9               186000.0           1490  98168.0\n",
       "10              202000.0            830  98108.0\n",
       "11              210000.0           1130  98108.0\n",
       "12              193000.0           1560  98108.0\n",
       "13              299000.0           2340  98108.0\n",
       "14              196000.0           1152      NaN\n",
       "15              167000.0            880  98055.0\n",
       "16              236000.0           1520  98055.0\n",
       "17              221000.0           1630  98055.0\n",
       "18              321000.0            700  98122.0\n",
       "19              420000.0           1470      NaN\n",
       "20              346000.0           1170  98116.0\n",
       "21              475000.0           1530  98007.0\n",
       "22              517000.0           1910  98007.0\n",
       "23              650000.0           2480  98052.0\n",
       "24              375000.0           2600  98038.0\n",
       "25              423000.0           2480  98038.0\n",
       "27              485000.0           2120  98146.0\n",
       "30              347000.0           1400  98146.0\n",
       "31              445000.0           2810  98146.0\n",
       "33              208000.0           2020  98178.0\n",
       "34              284000.0           2340  98118.0\n",
       "...                  ...            ...      ...\n",
       "498213          442000.0           2010  98056.0\n",
       "498214          285000.0           1170  98056.0\n",
       "498215          334000.0           1300  98056.0\n",
       "498216          337000.0           1920  98056.0\n",
       "498217          594000.0           3180  98056.0\n",
       "498218          666000.0           1240  98056.0\n",
       "498220          387000.0           1000  98056.0\n",
       "498221          586000.0           2640  98056.0\n",
       "498222          427000.0           1580  98056.0\n",
       "498223          427000.0            880  98056.0\n",
       "498224          325000.0           1042  98056.0\n",
       "498225          275000.0           1060  98056.0\n",
       "498226          421000.0           2360  98056.0\n",
       "498227          590000.0           2360  98056.0\n",
       "498228          639000.0           3290  98056.0\n",
       "498229          479000.0           2120  98056.0\n",
       "498230          391000.0           2840  98056.0\n",
       "498233          414000.0           1940  98056.0\n",
       "498234          463000.0           2560  98056.0\n",
       "498235          613000.0           3050  98006.0\n",
       "498239          427000.0           2410  98056.0\n",
       "498240          247000.0            990  98056.0\n",
       "498241          247000.0            980  98056.0\n",
       "498242          312000.0           1660  98056.0\n",
       "498243          392000.0           2570  98056.0\n",
       "498244          375000.0           2230  98056.0\n",
       "498245          316000.0           1710  98056.0\n",
       "498246          340000.0           1930  98056.0\n",
       "498247          132000.0           2930  98056.0\n",
       "498248          286000.0           1310  98056.0\n",
       "\n",
       "[432693 rows x 3 columns]"
      ]
     },
     "execution_count": 97,
     "metadata": {},
     "output_type": "execute_result"
    }
   ],
   "source": [
    "kc_tax"
   ]
  },
  {
   "cell_type": "code",
   "execution_count": 101,
   "metadata": {
    "collapsed": false
   },
   "outputs": [
    {
     "data": {
      "text/plain": [
       "<matplotlib.text.Text at 0x7f18ca194cf8>"
      ]
     },
     "execution_count": 101,
     "metadata": {},
     "output_type": "execute_result"
    },
    {
     "data": {
      "image/png": "[encoded data removed]",
      "text/plain": [
       "<matplotlib.figure.Figure at 0x7f18c8a1c630>"
      ]
     },
     "metadata": {},
     "output_type": "display_data"
    }
   ],
   "source": [
    "kc_tax.plot(kind='hexbin',x=kc_tax.columns[1],y=kc_tax.columns[0],gridsize=25,figsize=(8,10))"
   ]
  },
  {
   "cell_type": "code",
   "execution_count": null,
   "metadata": {
    "collapsed": true
   },
   "outputs": [],
   "source": []
  }
 ],
 "metadata": {
  "anaconda-cloud": {},
  "kernelspec": {
   "display_name": "Python [conda root]",
   "language": "python",
   "name": "conda-root-py"
  },
  "language_info": {
   "codemirror_mode": {
    "name": "ipython",
    "version": 3
   },
   "file_extension": ".py",
   "mimetype": "text/x-python",
   "name": "python",
   "nbconvert_exporter": "python",
   "pygments_lexer": "ipython3",
   "version": "3.5.2"
  }
 },
 "nbformat": 4,
 "nbformat_minor": 2
}
