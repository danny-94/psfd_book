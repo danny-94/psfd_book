{
 "cells": [
  {
   "cell_type": "markdown",
   "metadata": {},
   "source": [
    "# Chapter 1. Exploratory Data Analysis"
   ]
  },
  {
   "cell_type": "markdown",
   "metadata": {},
   "source": [
    "### Elements of Structured Data\n",
    "    "
   ]
  },
  {
   "cell_type": "markdown",
   "metadata": {},
   "source": [
    "#### KEY TERMS FOR DATA TYPES"
   ]
  },
  {
   "cell_type": "markdown",
   "metadata": {},
   "source": [
    "<u>Continuous:</u><br>\n",
    "Data that can take on any value in an interval.\n",
    "\n",
    "Synonyms:<br>\n",
    "interval, float, numeric\n",
    "\n",
    "<u>Discrete:</u><br>\n",
    "Data that can take on only integer values, such as counts.\n",
    "\n",
    "Synonyms:<br>\n",
    "integer, count\n",
    "\n",
    "<u>Categorical:</u><br>\n",
    "Data that can take on only a specific set of values representing a set of possible categories.\n",
    "\n",
    "Synonyms:<br>\n",
    "enums, enumerated, factors, nominal, polychotomous\n",
    "\n",
    "<u>Binary:</u><br>\n",
    "A special case of categorical data with just two categories of values (0/1, true/false).\n",
    "\n",
    "Synonyms:<br>\n",
    "dichotomous, logical, indicator, boolean\n",
    "\n",
    "<u>Ordinal:</u><br>\n",
    "Categorical data that has an explicit ordering.\n",
    "\n",
    "Synonyms:<br>\n",
    "ordered factor"
   ]
  },
  {
   "cell_type": "markdown",
   "metadata": {},
   "source": [
    "\n",
    "#### KEY IDEAS"
   ]
  },
  {
   "cell_type": "markdown",
   "metadata": {},
   "source": [
    "Data is typically classified in software by type.\n",
    "\n",
    "Data types include continuous, discrete, categorical (which includes binary), and ordinal.\n",
    "\n",
    "Data typing in software acts as a signal to the software on how to process the data."
   ]
  },
  {
   "cell_type": "markdown",
   "metadata": {},
   "source": [
    "### Rectangular Data"
   ]
  },
  {
   "cell_type": "markdown",
   "metadata": {},
   "source": [
    "#### KEY TERMS FOR RECTANGULAR DATA"
   ]
  },
  {
   "cell_type": "markdown",
   "metadata": {},
   "source": [
    "<u>Data frame</u>:<br>\n",
    "Rectangular data (like a spreadsheet) is the basic data structure for statistical and machine learning models.\n",
    "\n",
    "<u>Feature</u>:<br>\n",
    "A column in the table is commonly referred to as a feature.\n",
    "\n",
    "Synonyms\n",
    "attribute, input, predictor, variable\n",
    "\n",
    "<u>Outcome</u>:<br>\n",
    "Many data science projects involve predicting an outcome—often a yes/no outcome (in Table 1-1, it is “auction was competitive or not”). The features are sometimes used to predict the outcome in an experiment or study.\n",
    "\n",
    "Synonyms\n",
    "dependent variable, response, target, output\n",
    "\n",
    "<u>Records</u>:<br>\n",
    "A row in the table is commonly referred to as a record.\n",
    "\n",
    "Synonyms\n",
    "case, example, instance, observation, pattern, sample"
   ]
  },
  {
   "cell_type": "markdown",
   "metadata": {},
   "source": [
    "### Estimates of Location"
   ]
  },
  {
   "cell_type": "markdown",
   "metadata": {},
   "source": [
    "#### KEY TERMS FOR ESTIMATES OF LOCATION"
   ]
  },
  {
   "cell_type": "markdown",
   "metadata": {},
   "source": [
    "Mean:<br>\n",
    "The sum of all values divided by the number of values.\n",
    "\n",
    "Synonyms:<br>\n",
    "average\n",
    "\n",
    "Weighted mean:<br>\n",
    "The sum of all values times a weight divided by the sum of the weights.\n",
    "\n",
    "Synonyms<br>\n",
    "weighted average\n",
    "\n",
    "Median:<br>\n",
    "The value such that one-half of the data lies above and below.\n",
    "\n",
    "Synonyms:<br>\n",
    "50th percentile\n",
    "\n",
    "Weighted median:<br>\n",
    "The value such that one-half of the sum of the weights lies above and below the sorted data.\n",
    "\n",
    "Trimmed mean:<br>\n",
    "The average of all values after dropping a fixed number of extreme values.\n",
    "\n",
    "Synonyms:<br>\n",
    "truncated mean\n",
    "\n",
    "Robust:<br>\n",
    "Not sensitive to extreme values.\n",
    "\n",
    "Synonyms:<br>\n",
    "resistant\n",
    "\n",
    "Outlier:<br>\n",
    "A data value that is very different from most of the data.\n",
    "\n",
    "Synonyms:<br>\n",
    "extreme value"
   ]
  },
  {
   "cell_type": "code",
   "execution_count": 27,
   "metadata": {
    "collapsed": false
   },
   "outputs": [],
   "source": [
    "# fold_path  = r'C:\\Users\\966317\\Desktop\\statistics-for-data-scientists-master\\statistics-for-data-scientists\\data'\n",
    "fold_path = '/home/danny/Desktop/psfd2/data'\n",
    "import os\n",
    "os.chdir(fold_path)\n",
    "# state_file_path = os.path.join(fold_path,'state.csv')"
   ]
  },
  {
   "cell_type": "code",
   "execution_count": 28,
   "metadata": {
    "collapsed": false
   },
   "outputs": [],
   "source": [
    "import pandas as pd\n",
    "df_state = pd.read_csv('state.csv')"
   ]
  },
  {
   "cell_type": "markdown",
   "metadata": {},
   "source": [
    "##### Finding Mean"
   ]
  },
  {
   "cell_type": "code",
   "execution_count": 29,
   "metadata": {
    "collapsed": false
   },
   "outputs": [
    {
     "data": {
      "text/plain": [
       "(6162876.3, 6162876.3)"
      ]
     },
     "execution_count": 29,
     "metadata": {},
     "output_type": "execute_result"
    }
   ],
   "source": [
    "import numpy as np\n",
    "# 2 ways to find mean are\n",
    "np.mean(df_state['Population']),df_state['Population'].mean()"
   ]
  },
  {
   "cell_type": "markdown",
   "metadata": {},
   "source": [
    "##### Finding Trimmed mean"
   ]
  },
  {
   "cell_type": "code",
   "execution_count": 30,
   "metadata": {
    "collapsed": false
   },
   "outputs": [
    {
     "data": {
      "text/plain": [
       "4783697.125"
      ]
     },
     "execution_count": 30,
     "metadata": {},
     "output_type": "execute_result"
    }
   ],
   "source": [
    "from scipy.stats import trim_mean\n",
    "trim_mean(df_state['Population'],0.1)"
   ]
  },
  {
   "cell_type": "markdown",
   "metadata": {},
   "source": [
    "##### Finding Median"
   ]
  },
  {
   "cell_type": "code",
   "execution_count": 31,
   "metadata": {
    "collapsed": false
   },
   "outputs": [
    {
     "data": {
      "text/plain": [
       "4436369.5"
      ]
     },
     "execution_count": 31,
     "metadata": {},
     "output_type": "execute_result"
    }
   ],
   "source": [
    "from numpy import median\n",
    "median(df_state['Population'])"
   ]
  },
  {
   "cell_type": "markdown",
   "metadata": {},
   "source": [
    "##### Finding Weighted mean"
   ]
  },
  {
   "cell_type": "code",
   "execution_count": 32,
   "metadata": {
    "collapsed": false
   },
   "outputs": [
    {
     "data": {
      "text/plain": [
       "4.4458339811233927"
      ]
     },
     "execution_count": 32,
     "metadata": {},
     "output_type": "execute_result"
    }
   ],
   "source": [
    "from numpy import average\n",
    "average(df_state['Murder.Rate'], weights=df_state['Population'])"
   ]
  },
  {
   "cell_type": "markdown",
   "metadata": {},
   "source": [
    "##### Finding Weighted median"
   ]
  },
  {
   "cell_type": "code",
   "execution_count": 33,
   "metadata": {
    "collapsed": false
   },
   "outputs": [
    {
     "data": {
      "text/plain": [
       "4.4000000000000004"
      ]
     },
     "execution_count": 33,
     "metadata": {},
     "output_type": "execute_result"
    }
   ],
   "source": [
    "import weightedstats as ws\n",
    "ws.weighted_median(df_state['Murder.Rate'], weights=df_state['Population'])"
   ]
  },
  {
   "cell_type": "markdown",
   "metadata": {},
   "source": [
    "##### KEY IDEAS"
   ]
  },
  {
   "cell_type": "raw",
   "metadata": {},
   "source": [
    "The basic metric for location is the mean, but it can be sensitive to extreme values (outlier).\n",
    "\n",
    "Other metrics (median, trimmed mean) are more robust."
   ]
  },
  {
   "cell_type": "markdown",
   "metadata": {},
   "source": [
    "### Estimates of Variability"
   ]
  },
  {
   "cell_type": "markdown",
   "metadata": {},
   "source": [
    "##### KEY TERMS FOR VARIABILITY METRICS"
   ]
  },
  {
   "cell_type": "markdown",
   "metadata": {},
   "source": [
    "Deviations:<br>\n",
    "The difference between the observed values and the estimate of location.\n",
    "\n",
    "Synonyms:<br>\n",
    "errors, residuals\n",
    "\n",
    "Variance:<br>\n",
    "The sum of squared deviations from the mean divided by n – 1 where n is the number of data values.\n",
    "\n",
    "Synonyms:<br>\n",
    "mean-squared-error\n",
    "\n",
    "Standard deviation:<br>\n",
    "The square root of the variance.\n",
    "\n",
    "Synonyms:<br>\n",
    "l2-norm, Euclidean norm\n",
    "\n",
    "Mean absolute deviation:<br>\n",
    "The mean of the absolute value of the deviations from the mean.\n",
    "\n",
    "Synonyms:<br>\n",
    "l1-norm, Manhattan norm\n",
    "\n",
    "Median absolute deviation from the median:<br>\n",
    "The median of the absolute value of the deviations from the median.\n",
    "\n",
    "Range:<br>\n",
    "The difference between the largest and the smallest value in a data set.\n",
    "\n",
    "Order statistics:<br>\n",
    "Metrics based on the data values sorted from smallest to biggest.\n",
    "\n",
    "Synonyms:<br>\n",
    "ranks\n",
    "\n",
    "Percentile:<br>\n",
    "The value such that P percent of the values take on this value or less and (100–P) percent take on this value or more.\n",
    "\n",
    "Synonyms:<br>\n",
    "quantile\n",
    "\n",
    "Interquartile range:<br>\n",
    "The difference between the 75th percentile and the 25th percentile.\n",
    "\n",
    "Synonyms:<br>\n",
    "IQR"
   ]
  },
  {
   "cell_type": "markdown",
   "metadata": {},
   "source": [
    "##### Finding Standard Deviation"
   ]
  },
  {
   "cell_type": "code",
   "execution_count": 34,
   "metadata": {
    "collapsed": false
   },
   "outputs": [
    {
     "data": {
      "text/plain": [
       "Population    6.779407e+06\n",
       "dtype: float64"
      ]
     },
     "execution_count": 34,
     "metadata": {},
     "output_type": "execute_result"
    }
   ],
   "source": [
    "from numpy import std\n",
    "std(df_state[[\"Population\"]])"
   ]
  },
  {
   "cell_type": "markdown",
   "metadata": {},
   "source": [
    "##### Finding IQR"
   ]
  },
  {
   "cell_type": "code",
   "execution_count": 35,
   "metadata": {
    "collapsed": false
   },
   "outputs": [
    {
     "data": {
      "text/plain": [
       "4847308.0"
      ]
     },
     "execution_count": 35,
     "metadata": {},
     "output_type": "execute_result"
    }
   ],
   "source": [
    "from scipy.stats import iqr\n",
    "iqr(df_state[[\"Population\"]])"
   ]
  },
  {
   "cell_type": "markdown",
   "metadata": {},
   "source": [
    "##### Finding Mean absolute deviation"
   ]
  },
  {
   "cell_type": "code",
   "execution_count": 36,
   "metadata": {
    "collapsed": false
   },
   "outputs": [
    {
     "data": {
      "text/plain": [
       "4450933.3560000006"
      ]
     },
     "execution_count": 36,
     "metadata": {},
     "output_type": "execute_result"
    }
   ],
   "source": [
    "from numpy import mean, absolute\n",
    "\n",
    "def mean_ad(data, axis=None):\n",
    "    return mean(absolute(data - mean(data, axis)), axis)\n",
    "mean_ad(df_state[\"Population\"].values)"
   ]
  },
  {
   "cell_type": "code",
   "execution_count": 37,
   "metadata": {
    "collapsed": false
   },
   "outputs": [
    {
     "data": {
      "text/plain": [
       "4450933.356000001"
      ]
     },
     "execution_count": 37,
     "metadata": {},
     "output_type": "execute_result"
    }
   ],
   "source": [
    "df_state[\"Population\"].mad()"
   ]
  },
  {
   "cell_type": "markdown",
   "metadata": {},
   "source": [
    "##### Finding Median absolute deviation"
   ]
  },
  {
   "cell_type": "code",
   "execution_count": 38,
   "metadata": {
    "collapsed": false
   },
   "outputs": [
    {
     "data": {
      "text/plain": [
       "3430658.2999999998"
      ]
     },
     "execution_count": 38,
     "metadata": {},
     "output_type": "execute_result"
    }
   ],
   "source": [
    "from numpy import median, absolute\n",
    "\n",
    "def median_ad(data, axis=None):\n",
    "    return median(absolute(data - mean(data, axis)), axis)\n",
    "median_ad(df_state[\"Population\"].values)"
   ]
  },
  {
   "cell_type": "code",
   "execution_count": 39,
   "metadata": {
    "collapsed": false
   },
   "outputs": [
    {
     "data": {
      "text/plain": [
       "2596702.0"
      ]
     },
     "execution_count": 39,
     "metadata": {},
     "output_type": "execute_result"
    }
   ],
   "source": [
    "from astropy.stats import median_absolute_deviation\n",
    "median_absolute_deviation(df_state[\"Population\"].values)"
   ]
  },
  {
   "cell_type": "markdown",
   "metadata": {},
   "source": [
    "##### KEY IDEAS"
   ]
  },
  {
   "cell_type": "markdown",
   "metadata": {},
   "source": [
    "The variance and standard deviation are the most widespread and routinely reported statistics of variability.\n",
    "\n",
    "Both are sensitive to outliers.\n",
    "\n",
    "More robust metrics include mean and median absolute deviations from the mean and percentiles (quantiles)."
   ]
  },
  {
   "cell_type": "markdown",
   "metadata": {},
   "source": [
    "### Exploring the Data Distribution"
   ]
  },
  {
   "cell_type": "markdown",
   "metadata": {},
   "source": [
    "##### KEY TERMS FOR EXPLORING THE DISTRIBUTION"
   ]
  },
  {
   "cell_type": "markdown",
   "metadata": {},
   "source": [
    "Boxplot:<br>\n",
    "A plot introduced by Tukey as a quick way to visualize the distribution of data.\n",
    "\n",
    "Synonyms:<br>\n",
    "Box and whiskers plot\n",
    "\n",
    "Frequency table:<br>\n",
    "A tally of the count of numeric data values that fall into a set of intervals (bins).\n",
    "\n",
    "Histogram:<br>\n",
    "A plot of the frequency table with the bins on the x-axis and the count (or proportion) on the y-axis.\n",
    "\n",
    "Density plot:<br>\n",
    "A smoothed version of the histogram, often based on a kernal density estimate."
   ]
  },
  {
   "cell_type": "markdown",
   "metadata": {},
   "source": [
    "##### Percentile"
   ]
  },
  {
   "cell_type": "code",
   "execution_count": 40,
   "metadata": {
    "collapsed": false
   },
   "outputs": [
    {
     "data": {
      "text/plain": [
       "0.05    1.600\n",
       "0.25    2.425\n",
       "0.50    4.000\n",
       "0.75    5.550\n",
       "0.95    6.510\n",
       "Name: Murder.Rate, dtype: float64"
      ]
     },
     "execution_count": 40,
     "metadata": {},
     "output_type": "execute_result"
    }
   ],
   "source": [
    "df_state['Murder.Rate'].quantile([.05, .25, .5, .75, .95])"
   ]
  },
  {
   "cell_type": "markdown",
   "metadata": {},
   "source": [
    "##### Boxplot"
   ]
  },
  {
   "cell_type": "code",
   "execution_count": 41,
   "metadata": {
    "collapsed": false,
    "scrolled": false
   },
   "outputs": [
    {
     "data": {
      "text/plain": [
       "<matplotlib.text.Text at 0x7f4e72702128>"
      ]
     },
     "execution_count": 41,
     "metadata": {},
     "output_type": "execute_result"
    },
    {
     "data": {
      "image/png": "[encoded data removed]",
      "text/plain": [
       "<matplotlib.figure.Figure at 0x7f4e763e2b00>"
      ]
     },
     "metadata": {},
     "output_type": "display_data"
    }
   ],
   "source": [
    "%matplotlib inline\n",
    "import matplotlib.pyplot as plt\n",
    "plt.style.use('ggplot')\n",
    "df_state[\"Population\"].plot(kind='box')\n",
    "plt.ylabel('Population (millions)')"
   ]
  },
  {
   "cell_type": "markdown",
   "metadata": {},
   "source": [
    "##### Frequency Table"
   ]
  },
  {
   "cell_type": "code",
   "execution_count": 42,
   "metadata": {
    "collapsed": false
   },
   "outputs": [
    {
     "data": {
      "text/plain": [
       "(526935.669, 3899110.545]       24\n",
       "(3899110.545, 7234595.091]      14\n",
       "(7234595.091, 10570079.636]      5\n",
       "(10570079.636, 13905564.182]     3\n",
       "(13905564.182, 17241048.727]     0\n",
       "(17241048.727, 20576533.273]     2\n",
       "(20576533.273, 23912017.818]     0\n",
       "(23912017.818, 27247502.364]     1\n",
       "(27247502.364, 30582986.909]     0\n",
       "(30582986.909, 33918471.455]     0\n",
       "(33918471.455, 37253956.0]       1\n",
       "dtype: int64"
      ]
     },
     "execution_count": 42,
     "metadata": {},
     "output_type": "execute_result"
    }
   ],
   "source": [
    "pop_binned = pd.cut(np.array(df_state[\"Population\"]), 11, right=True, include_lowest=True)\n",
    "pop_binned.value_counts()"
   ]
  },
  {
   "cell_type": "markdown",
   "metadata": {},
   "source": [
    "##### Histogram"
   ]
  },
  {
   "cell_type": "code",
   "execution_count": 43,
   "metadata": {
    "collapsed": false
   },
   "outputs": [
    {
     "data": {
      "text/plain": [
       "<matplotlib.text.Text at 0x7f4e7454fbe0>"
      ]
     },
     "execution_count": 43,
     "metadata": {},
     "output_type": "execute_result"
    },
    {
     "data": {
      "image/png": "[encoded data removed]",
      "text/plain": [
       "<matplotlib.figure.Figure at 0x7f4e745725c0>"
      ]
     },
     "metadata": {},
     "output_type": "display_data"
    }
   ],
   "source": [
    "cuts = [intv.right for intv in pop_binned.categories]\n",
    "plt.xticks(cuts)\n",
    "plt.hist(df_state['Population'], bins=cuts)\n",
    "plt.xlabel('Population')\n",
    "plt.ylabel('Frequency')"
   ]
  },
  {
   "cell_type": "markdown",
   "metadata": {},
   "source": [
    "##### Density Estimates"
   ]
  },
  {
   "cell_type": "code",
   "execution_count": 44,
   "metadata": {
    "collapsed": false
   },
   "outputs": [
    {
     "data": {
      "text/plain": [
       "<matplotlib.text.Text at 0x7f4e75b067f0>"
      ]
     },
     "execution_count": 44,
     "metadata": {},
     "output_type": "execute_result"
    },
    {
     "data": {
      "image/png": "[encoded data removed]",
      "text/plain": [
       "<matplotlib.figure.Figure at 0x7f4e764b5f28>"
      ]
     },
     "metadata": {},
     "output_type": "display_data"
    }
   ],
   "source": [
    "plt.hist(df_state['Murder.Rate'].values,normed=True)\n",
    "df_state['Murder.Rate'].plot(kind='density')\n",
    "plt.xlabel('Murder rate (100,000)')"
   ]
  },
  {
   "cell_type": "markdown",
   "metadata": {
    "collapsed": false
   },
   "source": [
    "##### KEY TERMS FOR EXPLORING CATEGORICAL DATA"
   ]
  },
  {
   "cell_type": "markdown",
   "metadata": {},
   "source": [
    "Mode:<br>\n",
    "The most commonly occurring category or value in a data set.\n",
    "\n",
    "Expected value:<br>\n",
    "When the categories can be associated with a numeric value, this gives an average value based on\n",
    "a category’s probability of occurrence.\n",
    "\n",
    "Bar charts:<br>\n",
    "The frequency or proportion for each category plotted as bars.\n",
    "\n",
    "Pie charts:<br>\n",
    "The frequency or proportion for each category plotted as wedges in a pie."
   ]
  },
  {
   "cell_type": "markdown",
   "metadata": {},
   "source": [
    "##### Barplot"
   ]
  },
  {
   "cell_type": "code",
   "execution_count": 45,
   "metadata": {
    "collapsed": false
   },
   "outputs": [],
   "source": [
    "dfw = pd.read_csv('dfw_airline.csv')"
   ]
  },
  {
   "cell_type": "code",
   "execution_count": 46,
   "metadata": {
    "collapsed": false
   },
   "outputs": [
    {
     "data": {
      "text/plain": [
       "<matplotlib.axes._subplots.AxesSubplot at 0x7f4e75ab3cc0>"
      ]
     },
     "execution_count": 46,
     "metadata": {},
     "output_type": "execute_result"
    },
    {
     "data": {
      "image/png": "[encoded data removed]",
      "text/plain": [
       "<matplotlib.figure.Figure at 0x7f4e7456aba8>"
      ]
     },
     "metadata": {},
     "output_type": "display_data"
    }
   ],
   "source": [
    "dfw.plot(kind='bar')"
   ]
  },
  {
   "cell_type": "markdown",
   "metadata": {},
   "source": [
    "##### Correlation"
   ]
  },
  {
   "cell_type": "code",
   "execution_count": 47,
   "metadata": {
    "collapsed": false
   },
   "outputs": [],
   "source": [
    "sp500_sym_file_path = os.path.join(fold_path, 'sp500_sym.csv')\n",
    "sp500_sym = pd.read_csv(sp500_sym_file_path)\n",
    "sp500_px_file_path = os.path.join(fold_path, 'sp500_px.csv')\n",
    "sp500_px = pd.read_csv(sp500_px_file_path, infer_datetime_format=True, index_col=0,parse_dates=True)"
   ]
  },
  {
   "cell_type": "code",
   "execution_count": 48,
   "metadata": {
    "collapsed": false
   },
   "outputs": [],
   "source": [
    "rows = sp500_px.index > '2012-07-01' \n",
    "cols = sp500_sym[sp500_sym['sector'] == 'etf']['symbol'].values\n",
    "etfs = sp500_px.loc[rows,cols]"
   ]
  },
  {
   "cell_type": "code",
   "execution_count": 49,
   "metadata": {
    "collapsed": false
   },
   "outputs": [
    {
     "data": {
      "text/plain": [
       "<matplotlib.axes._subplots.AxesSubplot at 0x7f4e759eb8d0>"
      ]
     },
     "execution_count": 49,
     "metadata": {},
     "output_type": "execute_result"
    },
    {
     "data": {
      "image/png": "[encoded data removed]",
      "text/plain": [
       "<matplotlib.figure.Figure at 0x7f4e77148ac8>"
      ]
     },
     "metadata": {},
     "output_type": "display_data"
    }
   ],
   "source": [
    "import seaborn as sns\n",
    "corr = etfs.corr()\n",
    "cmap = sns.diverging_palette(10, 220, as_cmap=True)\n",
    "sns.heatmap(corr, \n",
    "            xticklabels=corr.columns.values,\n",
    "            yticklabels=corr.columns.values,cmap=cmap)"
   ]
  },
  {
   "cell_type": "markdown",
   "metadata": {},
   "source": [
    "##### Scatterplot"
   ]
  },
  {
   "cell_type": "code",
   "execution_count": 50,
   "metadata": {
    "collapsed": false
   },
   "outputs": [
    {
     "data": {
      "text/plain": [
       "<matplotlib.text.Text at 0x7f4e75998940>"
      ]
     },
     "execution_count": 50,
     "metadata": {},
     "output_type": "execute_result"
    },
    {
     "data": {
      "image/png": "[encoded data removed]",
      "text/plain": [
       "<matplotlib.figure.Figure at 0x7f4e759207b8>"
      ]
     },
     "metadata": {},
     "output_type": "display_data"
    }
   ],
   "source": [
    "# telecom <- sp500_px[, sp500_sym[sp500_sym$sector==\"telecommunications_services\", 'symbol']]\n",
    "cols = sp500_sym[sp500_sym['sector']=='telecommunications_services']['symbol'].values\n",
    "telecom = sp500_px[cols]\n",
    "plt.scatter(telecom['T'], telecom['VZ'])\n",
    "plt.ylabel('T')\n",
    "plt.xlabel('VZ')"
   ]
  },
  {
   "cell_type": "markdown",
   "metadata": {},
   "source": [
    "### KEY IDEAS FOR CORRELATION"
   ]
  },
  {
   "cell_type": "markdown",
   "metadata": {},
   "source": [
    "The correlation coefficient measures the extent to which two variables are associated with one another.\n",
    "\n",
    "When high values of v1 go with high values of v2, v1 and v2 are positively associated.\n",
    "\n",
    "When high values of v1 are associated with low values of v2, v1 and v2 are negatively associated.\n",
    "\n",
    "The correlation coefficient is a standardized metric so that it always ranges from –1 (perfect negative correlation) to +1 (perfect positive correlation).\n",
    "\n",
    "A correlation coefficient of 0 indicates no correlation, but be aware that random arrangements of data will produce both positive and negative values for the correlation coefficient just by chance."
   ]
  },
  {
   "cell_type": "markdown",
   "metadata": {
    "collapsed": true
   },
   "source": [
    "##### Hexagonal Binning"
   ]
  },
  {
   "cell_type": "code",
   "execution_count": 51,
   "metadata": {
    "collapsed": false
   },
   "outputs": [
    {
     "data": {
      "text/plain": [
       "<matplotlib.axes._subplots.AxesSubplot at 0x7f4e7584cc88>"
      ]
     },
     "execution_count": 51,
     "metadata": {},
     "output_type": "execute_result"
    },
    {
     "data": {
      "image/png": "[encoded data removed]",
      "text/plain": [
       "<matplotlib.figure.Figure at 0x7f4e764426d8>"
      ]
     },
     "metadata": {},
     "output_type": "display_data"
    }
   ],
   "source": [
    "kc_tax = pd.read_csv('kc_tax.csv')\n",
    "kc_tax = kc_tax[(kc_tax['TaxAssessedValue'] < 750000) & (kc_tax['SqFtTotLiving'] >100) & (kc_tax['SqFtTotLiving'] <3500)]\n",
    "kc_tax.plot(kind='hexbin',x=kc_tax.columns[1],y=kc_tax.columns[0],gridsize=25,figsize=(8,10))"
   ]
  },
  {
   "cell_type": "markdown",
   "metadata": {},
   "source": [
    "##### Countour Plots"
   ]
  },
  {
   "cell_type": "code",
   "execution_count": 53,
   "metadata": {
    "collapsed": false
   },
   "outputs": [],
   "source": [
    "# WIP"
   ]
  },
  {
   "cell_type": "markdown",
   "metadata": {},
   "source": [
    "##### Two categorical variables"
   ]
  },
  {
   "cell_type": "code",
   "execution_count": 59,
   "metadata": {
    "collapsed": false
   },
   "outputs": [
    {
     "data": {
      "text/html": [
       "<div>\n",
       "<style>\n",
       "    .dataframe thead tr:only-child th {\n",
       "        text-align: right;\n",
       "    }\n",
       "\n",
       "    .dataframe thead th {\n",
       "        text-align: left;\n",
       "    }\n",
       "\n",
       "    .dataframe tbody tr th {\n",
       "        vertical-align: top;\n",
       "    }\n",
       "</style>\n",
       "<table border=\"1\" class=\"dataframe\">\n",
       "  <thead>\n",
       "    <tr style=\"text-align: right;\">\n",
       "      <th>status</th>\n",
       "      <th>Charged Off</th>\n",
       "      <th>Current</th>\n",
       "      <th>Fully Paid</th>\n",
       "      <th>Late</th>\n",
       "    </tr>\n",
       "    <tr>\n",
       "      <th>grade</th>\n",
       "      <th></th>\n",
       "      <th></th>\n",
       "      <th></th>\n",
       "      <th></th>\n",
       "    </tr>\n",
       "  </thead>\n",
       "  <tbody>\n",
       "    <tr>\n",
       "      <th>0.2</th>\n",
       "      <td>146</td>\n",
       "      <td>661</td>\n",
       "      <td>216</td>\n",
       "      <td>63</td>\n",
       "    </tr>\n",
       "    <tr>\n",
       "      <th>0.4</th>\n",
       "      <td>96</td>\n",
       "      <td>524</td>\n",
       "      <td>138</td>\n",
       "      <td>42</td>\n",
       "    </tr>\n",
       "    <tr>\n",
       "      <th>0.6</th>\n",
       "      <td>63</td>\n",
       "      <td>360</td>\n",
       "      <td>101</td>\n",
       "      <td>45</td>\n",
       "    </tr>\n",
       "    <tr>\n",
       "      <th>0.8</th>\n",
       "      <td>51</td>\n",
       "      <td>228</td>\n",
       "      <td>100</td>\n",
       "      <td>32</td>\n",
       "    </tr>\n",
       "    <tr>\n",
       "      <th>1.0</th>\n",
       "      <td>53</td>\n",
       "      <td>217</td>\n",
       "      <td>88</td>\n",
       "      <td>17</td>\n",
       "    </tr>\n",
       "    <tr>\n",
       "      <th>1.2</th>\n",
       "      <td>400</td>\n",
       "      <td>2598</td>\n",
       "      <td>686</td>\n",
       "      <td>161</td>\n",
       "    </tr>\n",
       "    <tr>\n",
       "      <th>1.4</th>\n",
       "      <td>333</td>\n",
       "      <td>1875</td>\n",
       "      <td>576</td>\n",
       "      <td>140</td>\n",
       "    </tr>\n",
       "    <tr>\n",
       "      <th>1.6</th>\n",
       "      <td>302</td>\n",
       "      <td>1748</td>\n",
       "      <td>448</td>\n",
       "      <td>134</td>\n",
       "    </tr>\n",
       "    <tr>\n",
       "      <th>1.8</th>\n",
       "      <td>267</td>\n",
       "      <td>1309</td>\n",
       "      <td>347</td>\n",
       "      <td>91</td>\n",
       "    </tr>\n",
       "    <tr>\n",
       "      <th>2.0</th>\n",
       "      <td>224</td>\n",
       "      <td>914</td>\n",
       "      <td>271</td>\n",
       "      <td>80</td>\n",
       "    </tr>\n",
       "    <tr>\n",
       "      <th>2.2</th>\n",
       "      <td>597</td>\n",
       "      <td>6401</td>\n",
       "      <td>1435</td>\n",
       "      <td>299</td>\n",
       "    </tr>\n",
       "    <tr>\n",
       "      <th>2.4</th>\n",
       "      <td>670</td>\n",
       "      <td>6011</td>\n",
       "      <td>1470</td>\n",
       "      <td>301</td>\n",
       "    </tr>\n",
       "    <tr>\n",
       "      <th>2.6</th>\n",
       "      <td>561</td>\n",
       "      <td>4798</td>\n",
       "      <td>1186</td>\n",
       "      <td>256</td>\n",
       "    </tr>\n",
       "    <tr>\n",
       "      <th>2.8</th>\n",
       "      <td>547</td>\n",
       "      <td>4066</td>\n",
       "      <td>1001</td>\n",
       "      <td>251</td>\n",
       "    </tr>\n",
       "    <tr>\n",
       "      <th>3.0</th>\n",
       "      <td>467</td>\n",
       "      <td>3363</td>\n",
       "      <td>857</td>\n",
       "      <td>267</td>\n",
       "    </tr>\n",
       "    <tr>\n",
       "      <th>3.2</th>\n",
       "      <td>1095</td>\n",
       "      <td>13553</td>\n",
       "      <td>3380</td>\n",
       "      <td>533</td>\n",
       "    </tr>\n",
       "    <tr>\n",
       "      <th>3.4</th>\n",
       "      <td>1138</td>\n",
       "      <td>11706</td>\n",
       "      <td>3157</td>\n",
       "      <td>475</td>\n",
       "    </tr>\n",
       "    <tr>\n",
       "      <th>3.6</th>\n",
       "      <td>989</td>\n",
       "      <td>10307</td>\n",
       "      <td>2651</td>\n",
       "      <td>427</td>\n",
       "    </tr>\n",
       "    <tr>\n",
       "      <th>3.8</th>\n",
       "      <td>962</td>\n",
       "      <td>9801</td>\n",
       "      <td>2433</td>\n",
       "      <td>460</td>\n",
       "    </tr>\n",
       "    <tr>\n",
       "      <th>4.0</th>\n",
       "      <td>823</td>\n",
       "      <td>7914</td>\n",
       "      <td>2060</td>\n",
       "      <td>413</td>\n",
       "    </tr>\n",
       "    <tr>\n",
       "      <th>4.2</th>\n",
       "      <td>1306</td>\n",
       "      <td>18628</td>\n",
       "      <td>5601</td>\n",
       "      <td>525</td>\n",
       "    </tr>\n",
       "    <tr>\n",
       "      <th>4.4</th>\n",
       "      <td>1252</td>\n",
       "      <td>18740</td>\n",
       "      <td>5295</td>\n",
       "      <td>547</td>\n",
       "    </tr>\n",
       "    <tr>\n",
       "      <th>4.6</th>\n",
       "      <td>1175</td>\n",
       "      <td>18234</td>\n",
       "      <td>4348</td>\n",
       "      <td>564</td>\n",
       "    </tr>\n",
       "    <tr>\n",
       "      <th>4.8</th>\n",
       "      <td>1164</td>\n",
       "      <td>17451</td>\n",
       "      <td>4086</td>\n",
       "      <td>570</td>\n",
       "    </tr>\n",
       "    <tr>\n",
       "      <th>5.0</th>\n",
       "      <td>1126</td>\n",
       "      <td>15875</td>\n",
       "      <td>3817</td>\n",
       "      <td>571</td>\n",
       "    </tr>\n",
       "    <tr>\n",
       "      <th>5.2</th>\n",
       "      <td>664</td>\n",
       "      <td>16132</td>\n",
       "      <td>5066</td>\n",
       "      <td>256</td>\n",
       "    </tr>\n",
       "    <tr>\n",
       "      <th>5.4</th>\n",
       "      <td>863</td>\n",
       "      <td>18390</td>\n",
       "      <td>6099</td>\n",
       "      <td>372</td>\n",
       "    </tr>\n",
       "    <tr>\n",
       "      <th>5.6</th>\n",
       "      <td>1297</td>\n",
       "      <td>21335</td>\n",
       "      <td>7584</td>\n",
       "      <td>458</td>\n",
       "    </tr>\n",
       "    <tr>\n",
       "      <th>5.8</th>\n",
       "      <td>1313</td>\n",
       "      <td>20871</td>\n",
       "      <td>6810</td>\n",
       "      <td>514</td>\n",
       "    </tr>\n",
       "    <tr>\n",
       "      <th>6.0</th>\n",
       "      <td>1165</td>\n",
       "      <td>17124</td>\n",
       "      <td>5601</td>\n",
       "      <td>456</td>\n",
       "    </tr>\n",
       "    <tr>\n",
       "      <th>6.2</th>\n",
       "      <td>116</td>\n",
       "      <td>7367</td>\n",
       "      <td>2839</td>\n",
       "      <td>38</td>\n",
       "    </tr>\n",
       "    <tr>\n",
       "      <th>6.4</th>\n",
       "      <td>176</td>\n",
       "      <td>7305</td>\n",
       "      <td>3147</td>\n",
       "      <td>43</td>\n",
       "    </tr>\n",
       "    <tr>\n",
       "      <th>6.6</th>\n",
       "      <td>254</td>\n",
       "      <td>8170</td>\n",
       "      <td>3627</td>\n",
       "      <td>60</td>\n",
       "    </tr>\n",
       "    <tr>\n",
       "      <th>6.8</th>\n",
       "      <td>467</td>\n",
       "      <td>12345</td>\n",
       "      <td>5433</td>\n",
       "      <td>144</td>\n",
       "    </tr>\n",
       "    <tr>\n",
       "      <th>7.0</th>\n",
       "      <td>549</td>\n",
       "      <td>14864</td>\n",
       "      <td>5362</td>\n",
       "      <td>184</td>\n",
       "    </tr>\n",
       "  </tbody>\n",
       "</table>\n",
       "</div>"
      ],
      "text/plain": [
       "status  Charged Off  Current  Fully Paid  Late\n",
       "grade                                         \n",
       "0.2             146      661         216    63\n",
       "0.4              96      524         138    42\n",
       "0.6              63      360         101    45\n",
       "0.8              51      228         100    32\n",
       "1.0              53      217          88    17\n",
       "1.2             400     2598         686   161\n",
       "1.4             333     1875         576   140\n",
       "1.6             302     1748         448   134\n",
       "1.8             267     1309         347    91\n",
       "2.0             224      914         271    80\n",
       "2.2             597     6401        1435   299\n",
       "2.4             670     6011        1470   301\n",
       "2.6             561     4798        1186   256\n",
       "2.8             547     4066        1001   251\n",
       "3.0             467     3363         857   267\n",
       "3.2            1095    13553        3380   533\n",
       "3.4            1138    11706        3157   475\n",
       "3.6             989    10307        2651   427\n",
       "3.8             962     9801        2433   460\n",
       "4.0             823     7914        2060   413\n",
       "4.2            1306    18628        5601   525\n",
       "4.4            1252    18740        5295   547\n",
       "4.6            1175    18234        4348   564\n",
       "4.8            1164    17451        4086   570\n",
       "5.0            1126    15875        3817   571\n",
       "5.2             664    16132        5066   256\n",
       "5.4             863    18390        6099   372\n",
       "5.6            1297    21335        7584   458\n",
       "5.8            1313    20871        6810   514\n",
       "6.0            1165    17124        5601   456\n",
       "6.2             116     7367        2839    38\n",
       "6.4             176     7305        3147    43\n",
       "6.6             254     8170        3627    60\n",
       "6.8             467    12345        5433   144\n",
       "7.0             549    14864        5362   184"
      ]
     },
     "execution_count": 59,
     "metadata": {},
     "output_type": "execute_result"
    }
   ],
   "source": [
    "lc_loans = pd.read_csv('lc_loans.csv')\n",
    "pd.crosstab(lc_loans.grade,lc_loans.status)"
   ]
  },
  {
   "cell_type": "markdown",
   "metadata": {},
   "source": [
    "##### Categorical and Numeric Data"
   ]
  },
  {
   "cell_type": "markdown",
   "metadata": {},
   "source": [
    "##### Boxplot"
   ]
  },
  {
   "cell_type": "code",
   "execution_count": 57,
   "metadata": {
    "collapsed": false
   },
   "outputs": [
    {
     "data": {
      "text/plain": [
       "<matplotlib.axes._subplots.AxesSubplot at 0x7f4e75625048>"
      ]
     },
     "execution_count": 57,
     "metadata": {},
     "output_type": "execute_result"
    },
    {
     "data": {
      "image/png": "[encoded data removed]",
      "text/plain": [
       "<matplotlib.figure.Figure at 0x7f4e75608a58>"
      ]
     },
     "metadata": {},
     "output_type": "display_data"
    }
   ],
   "source": [
    "airline = pd.read_csv('airline_stats.csv')\n",
    "airline.boxplot(column='pct_carrier_delay',by='airline',figsize=(8,6))"
   ]
  },
  {
   "cell_type": "markdown",
   "metadata": {},
   "source": [
    "##### Violine Plot"
   ]
  },
  {
   "cell_type": "code",
   "execution_count": 66,
   "metadata": {
    "collapsed": false
   },
   "outputs": [
    {
     "data": {
      "image/png": "[encoded data removed]",
      "text/plain": [
       "<matplotlib.figure.Figure at 0x7f4e753cc518>"
      ]
     },
     "metadata": {},
     "output_type": "display_data"
    }
   ],
   "source": [
    "g = sns.violinplot(x=\"airline\", y=\"pct_carrier_delay\", data=airline)\n",
    "g.figure.set_size_inches(8,6)"
   ]
  },
  {
   "cell_type": "markdown",
   "metadata": {},
   "source": [
    "##### Visualizing Multiple Variables"
   ]
  },
  {
   "cell_type": "code",
   "execution_count": 70,
   "metadata": {
    "collapsed": true
   },
   "outputs": [],
   "source": [
    "kc_tax0 = kc_tax[(kc_tax['TaxAssessedValue'] < 750000) &\n",
    "  (kc_tax['SqFtTotLiving'] > 100) &\n",
    "  (kc_tax['SqFtTotLiving'] < 3500)]"
   ]
  },
  {
   "cell_type": "code",
   "execution_count": 80,
   "metadata": {
    "collapsed": false
   },
   "outputs": [
    {
     "data": {
      "text/plain": [
       "<matplotlib.text.Text at 0x7f4e73df4c50>"
      ]
     },
     "execution_count": 80,
     "metadata": {},
     "output_type": "execute_result"
    },
    {
     "data": {
      "image/png": "[encoded data removed]",
      "text/plain": [
       "<matplotlib.figure.Figure at 0x7f4e744774a8>"
      ]
     },
     "metadata": {},
     "output_type": "display_data"
    }
   ],
   "source": [
    "fig, ax = plt.subplots(2, 2, sharex='col', sharey='row')\n",
    "zips = [98188, 98105, 98108, 98126]\n",
    "kc_tax0[kc_tax0['ZipCode'] == 98126]\n",
    "\n",
    "zip_index = 0\n",
    "for i in range(2):\n",
    "    for j in range(2):\n",
    "        kc_tax0_subset = kc_tax0[kc_tax0['ZipCode'] == zips[i]]\n",
    "        zip_index += 1\n",
    "        ax[i, j].hexbin(kc_tax0_subset['SqFtTotLiving'].values, \n",
    "                        kc_tax0_subset['TaxAssessedValue'].values,gridsize=25)\n",
    "#         ax[i, j].set_xlabel('Tax-assessed value')\n",
    "fig.text(0.5, 0.01, 'Tax-assessed value', ha='center',fontsize='large')\n",
    "fig.text(0.0001, 0.5, 'finished square feet ', va='center', rotation='vertical')"
   ]
  },
  {
   "cell_type": "code",
   "execution_count": null,
   "metadata": {
    "collapsed": true
   },
   "outputs": [],
   "source": []
  }
 ],
 "metadata": {
  "anaconda-cloud": {},
  "kernelspec": {
   "display_name": "Python [conda root]",
   "language": "python",
   "name": "conda-root-py"
  },
  "language_info": {
   "codemirror_mode": {
    "name": "ipython",
    "version": 3
   },
   "file_extension": ".py",
   "mimetype": "text/x-python",
   "name": "python",
   "nbconvert_exporter": "python",
   "pygments_lexer": "ipython3",
   "version": "3.5.2"
  }
 },
 "nbformat": 4,
 "nbformat_minor": 2
}
