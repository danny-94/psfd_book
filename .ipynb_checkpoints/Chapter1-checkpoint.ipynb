{
 "cells": [
  {
   "cell_type": "markdown",
   "metadata": {},
   "source": [
    "# Chapter 1. Exploratory Data Analysis"
   ]
  },
  {
   "cell_type": "markdown",
   "metadata": {},
   "source": [
    "### Elements of Structured Data\n",
    "    "
   ]
  },
  {
   "cell_type": "markdown",
   "metadata": {},
   "source": [
    "#### KEY TERMS FOR DATA TYPES"
   ]
  },
  {
   "cell_type": "markdown",
   "metadata": {},
   "source": [
    "<u>Continuous:</u><br>\n",
    "Data that can take on any value in an interval.\n",
    "\n",
    "Synonyms:<br>\n",
    "interval, float, numeric\n",
    "\n",
    "<u>Discrete:</u><br>\n",
    "Data that can take on only integer values, such as counts.\n",
    "\n",
    "Synonyms:<br>\n",
    "integer, count\n",
    "\n",
    "<u>Categorical:</u><br>\n",
    "Data that can take on only a specific set of values representing a set of possible categories.\n",
    "\n",
    "Synonyms:<br>\n",
    "enums, enumerated, factors, nominal, polychotomous\n",
    "\n",
    "<u>Binary:</u><br>\n",
    "A special case of categorical data with just two categories of values (0/1, true/false).\n",
    "\n",
    "Synonyms:<br>\n",
    "dichotomous, logical, indicator, boolean\n",
    "\n",
    "<u>Ordinal:</u><br>\n",
    "Categorical data that has an explicit ordering.\n",
    "\n",
    "Synonyms:<br>\n",
    "ordered factor"
   ]
  },
  {
   "cell_type": "markdown",
   "metadata": {},
   "source": [
    "\n",
    "#### KEY IDEAS"
   ]
  },
  {
   "cell_type": "markdown",
   "metadata": {},
   "source": [
    "Data is typically classified in software by type.\n",
    "\n",
    "Data types include continuous, discrete, categorical (which includes binary), and ordinal.\n",
    "\n",
    "Data typing in software acts as a signal to the software on how to process the data."
   ]
  },
  {
   "cell_type": "markdown",
   "metadata": {},
   "source": [
    "### Rectangular Data"
   ]
  },
  {
   "cell_type": "markdown",
   "metadata": {},
   "source": [
    "#### KEY TERMS FOR RECTANGULAR DATA"
   ]
  },
  {
   "cell_type": "markdown",
   "metadata": {},
   "source": [
    "<u>Data frame</u>:<br>\n",
    "Rectangular data (like a spreadsheet) is the basic data structure for statistical and machine learning models.\n",
    "\n",
    "<u>Feature</u>:<br>\n",
    "A column in the table is commonly referred to as a feature.\n",
    "\n",
    "Synonyms\n",
    "attribute, input, predictor, variable\n",
    "\n",
    "<u>Outcome</u>:<br>\n",
    "Many data science projects involve predicting an outcome—often a yes/no outcome (in Table 1-1, it is “auction was competitive or not”). The features are sometimes used to predict the outcome in an experiment or study.\n",
    "\n",
    "Synonyms\n",
    "dependent variable, response, target, output\n",
    "\n",
    "<u>Records</u>:<br>\n",
    "A row in the table is commonly referred to as a record.\n",
    "\n",
    "Synonyms\n",
    "case, example, instance, observation, pattern, sample"
   ]
  },
  {
   "cell_type": "markdown",
   "metadata": {},
   "source": [
    "### Estimates of Location"
   ]
  },
  {
   "cell_type": "markdown",
   "metadata": {},
   "source": [
    "#### KEY TERMS FOR ESTIMATES OF LOCATION"
   ]
  },
  {
   "cell_type": "markdown",
   "metadata": {},
   "source": [
    "Mean:<br>\n",
    "The sum of all values divided by the number of values.\n",
    "\n",
    "Synonyms:<br>\n",
    "average\n",
    "\n",
    "Weighted mean:<br>\n",
    "The sum of all values times a weight divided by the sum of the weights.\n",
    "\n",
    "Synonyms<br>\n",
    "weighted average\n",
    "\n",
    "Median:<br>\n",
    "The value such that one-half of the data lies above and below.\n",
    "\n",
    "Synonyms:<br>\n",
    "50th percentile\n",
    "\n",
    "Weighted median:<br>\n",
    "The value such that one-half of the sum of the weights lies above and below the sorted data.\n",
    "\n",
    "Trimmed mean:<br>\n",
    "The average of all values after dropping a fixed number of extreme values.\n",
    "\n",
    "Synonyms:<br>\n",
    "truncated mean\n",
    "\n",
    "Robust:<br>\n",
    "Not sensitive to extreme values.\n",
    "\n",
    "Synonyms:<br>\n",
    "resistant\n",
    "\n",
    "Outlier:<br>\n",
    "A data value that is very different from most of the data.\n",
    "\n",
    "Synonyms:<br>\n",
    "extreme value"
   ]
  },
  {
   "cell_type": "code",
   "execution_count": 33,
   "metadata": {
    "collapsed": false
   },
   "outputs": [],
   "source": [
    "# fold_path  = r'C:\\Users\\966317\\Desktop\\statistics-for-data-scientists-master\\statistics-for-data-scientists\\data'\n",
    "fold_path = '/home/danny/Desktop/psfd2/data'\n",
    "import os\n",
    "state_file_path = os.path.join(fold_path,'state.csv')"
   ]
  },
  {
   "cell_type": "code",
   "execution_count": 34,
   "metadata": {
    "collapsed": false
   },
   "outputs": [],
   "source": [
    "import pandas as pd\n",
    "df_state = pd.read_csv(state_file_path)"
   ]
  },
  {
   "cell_type": "markdown",
   "metadata": {},
   "source": [
    "##### Finding Mean"
   ]
  },
  {
   "cell_type": "code",
   "execution_count": 35,
   "metadata": {
    "collapsed": false
   },
   "outputs": [
    {
     "data": {
      "text/plain": [
       "(6162876.3, 6162876.3)"
      ]
     },
     "execution_count": 35,
     "metadata": {},
     "output_type": "execute_result"
    }
   ],
   "source": [
    "import numpy as np\n",
    "# 2 ways to find mean are\n",
    "np.mean(df_state['Population']),df_state['Population'].mean()"
   ]
  },
  {
   "cell_type": "markdown",
   "metadata": {},
   "source": [
    "##### Finding Trimmed mean"
   ]
  },
  {
   "cell_type": "code",
   "execution_count": 36,
   "metadata": {
    "collapsed": false
   },
   "outputs": [
    {
     "data": {
      "text/plain": [
       "4783697.125"
      ]
     },
     "execution_count": 36,
     "metadata": {},
     "output_type": "execute_result"
    }
   ],
   "source": [
    "from scipy.stats import trim_mean\n",
    "trim_mean(df_state['Population'],0.1)"
   ]
  },
  {
   "cell_type": "markdown",
   "metadata": {},
   "source": [
    "##### Finding Median"
   ]
  },
  {
   "cell_type": "code",
   "execution_count": 37,
   "metadata": {
    "collapsed": false
   },
   "outputs": [
    {
     "data": {
      "text/plain": [
       "4436369.5"
      ]
     },
     "execution_count": 37,
     "metadata": {},
     "output_type": "execute_result"
    }
   ],
   "source": [
    "from numpy import median\n",
    "median(df_state['Population'])"
   ]
  },
  {
   "cell_type": "markdown",
   "metadata": {},
   "source": [
    "##### Finding Weighted mean"
   ]
  },
  {
   "cell_type": "code",
   "execution_count": 38,
   "metadata": {
    "collapsed": false
   },
   "outputs": [
    {
     "data": {
      "text/plain": [
       "4.4458339811233927"
      ]
     },
     "execution_count": 38,
     "metadata": {},
     "output_type": "execute_result"
    }
   ],
   "source": [
    "from numpy import average\n",
    "average(df_state['Murder.Rate'], weights=df_state['Population'])"
   ]
  },
  {
   "cell_type": "markdown",
   "metadata": {},
   "source": [
    "##### Finding Weighted median"
   ]
  },
  {
   "cell_type": "code",
   "execution_count": 39,
   "metadata": {
    "collapsed": false
   },
   "outputs": [
    {
     "data": {
      "text/plain": [
       "4.4000000000000004"
      ]
     },
     "execution_count": 39,
     "metadata": {},
     "output_type": "execute_result"
    }
   ],
   "source": [
    "import weightedstats as ws\n",
    "ws.weighted_median(df_state['Murder.Rate'], weights=df_state['Population'])"
   ]
  },
  {
   "cell_type": "markdown",
   "metadata": {},
   "source": [
    "##### KEY IDEAS"
   ]
  },
  {
   "cell_type": "raw",
   "metadata": {},
   "source": [
    "The basic metric for location is the mean, but it can be sensitive to extreme values (outlier).\n",
    "\n",
    "Other metrics (median, trimmed mean) are more robust."
   ]
  },
  {
   "cell_type": "markdown",
   "metadata": {},
   "source": [
    "### Estimates of Variability"
   ]
  },
  {
   "cell_type": "markdown",
   "metadata": {},
   "source": [
    "##### KEY TERMS FOR VARIABILITY METRICS"
   ]
  },
  {
   "cell_type": "markdown",
   "metadata": {},
   "source": [
    "Deviations:<br>\n",
    "The difference between the observed values and the estimate of location.\n",
    "\n",
    "Synonyms:<br>\n",
    "errors, residuals\n",
    "\n",
    "Variance:<br>\n",
    "The sum of squared deviations from the mean divided by n – 1 where n is the number of data values.\n",
    "\n",
    "Synonyms:<br>\n",
    "mean-squared-error\n",
    "\n",
    "Standard deviation:<br>\n",
    "The square root of the variance.\n",
    "\n",
    "Synonyms:<br>\n",
    "l2-norm, Euclidean norm\n",
    "\n",
    "Mean absolute deviation:<br>\n",
    "The mean of the absolute value of the deviations from the mean.\n",
    "\n",
    "Synonyms:<br>\n",
    "l1-norm, Manhattan norm\n",
    "\n",
    "Median absolute deviation from the median:<br>\n",
    "The median of the absolute value of the deviations from the median.\n",
    "\n",
    "Range:<br>\n",
    "The difference between the largest and the smallest value in a data set.\n",
    "\n",
    "Order statistics:<br>\n",
    "Metrics based on the data values sorted from smallest to biggest.\n",
    "\n",
    "Synonyms:<br>\n",
    "ranks\n",
    "\n",
    "Percentile:<br>\n",
    "The value such that P percent of the values take on this value or less and (100–P) percent take on this value or more.\n",
    "\n",
    "Synonyms:<br>\n",
    "quantile\n",
    "\n",
    "Interquartile range:<br>\n",
    "The difference between the 75th percentile and the 25th percentile.\n",
    "\n",
    "Synonyms:<br>\n",
    "IQR"
   ]
  },
  {
   "cell_type": "markdown",
   "metadata": {},
   "source": [
    "##### Finding Standard Deviation"
   ]
  },
  {
   "cell_type": "code",
   "execution_count": 40,
   "metadata": {
    "collapsed": false
   },
   "outputs": [
    {
     "data": {
      "text/plain": [
       "Population    6.779407e+06\n",
       "dtype: float64"
      ]
     },
     "execution_count": 40,
     "metadata": {},
     "output_type": "execute_result"
    }
   ],
   "source": [
    "from numpy import std\n",
    "std(df_state[[\"Population\"]])"
   ]
  },
  {
   "cell_type": "markdown",
   "metadata": {},
   "source": [
    "##### Finding IQR"
   ]
  },
  {
   "cell_type": "code",
   "execution_count": 41,
   "metadata": {
    "collapsed": false
   },
   "outputs": [
    {
     "data": {
      "text/plain": [
       "4847308.0"
      ]
     },
     "execution_count": 41,
     "metadata": {},
     "output_type": "execute_result"
    }
   ],
   "source": [
    "from scipy.stats import iqr\n",
    "iqr(df_state[[\"Population\"]])"
   ]
  },
  {
   "cell_type": "markdown",
   "metadata": {},
   "source": [
    "##### Finding Mean absolute deviation"
   ]
  },
  {
   "cell_type": "code",
   "execution_count": 42,
   "metadata": {
    "collapsed": false
   },
   "outputs": [
    {
     "data": {
      "text/plain": [
       "4450933.3560000006"
      ]
     },
     "execution_count": 42,
     "metadata": {},
     "output_type": "execute_result"
    }
   ],
   "source": [
    "from numpy import mean, absolute\n",
    "\n",
    "def mean_ad(data, axis=None):\n",
    "    return mean(absolute(data - mean(data, axis)), axis)\n",
    "mean_ad(df_state[\"Population\"].values)"
   ]
  },
  {
   "cell_type": "code",
   "execution_count": 43,
   "metadata": {
    "collapsed": false
   },
   "outputs": [
    {
     "data": {
      "text/plain": [
       "4450933.356000001"
      ]
     },
     "execution_count": 43,
     "metadata": {},
     "output_type": "execute_result"
    }
   ],
   "source": [
    "df_state[\"Population\"].mad()"
   ]
  },
  {
   "cell_type": "markdown",
   "metadata": {},
   "source": [
    "##### Finding Median absolute deviation"
   ]
  },
  {
   "cell_type": "code",
   "execution_count": 44,
   "metadata": {
    "collapsed": false
   },
   "outputs": [
    {
     "data": {
      "text/plain": [
       "3430658.2999999998"
      ]
     },
     "execution_count": 44,
     "metadata": {},
     "output_type": "execute_result"
    }
   ],
   "source": [
    "from numpy import median, absolute\n",
    "\n",
    "def median_ad(data, axis=None):\n",
    "    return median(absolute(data - mean(data, axis)), axis)\n",
    "median_ad(df_state[\"Population\"].values)"
   ]
  },
  {
   "cell_type": "code",
   "execution_count": 45,
   "metadata": {
    "collapsed": false
   },
   "outputs": [
    {
     "data": {
      "text/plain": [
       "2596702.0"
      ]
     },
     "execution_count": 45,
     "metadata": {},
     "output_type": "execute_result"
    }
   ],
   "source": [
    "from astropy.stats import median_absolute_deviation\n",
    "median_absolute_deviation(df_state[\"Population\"].values)"
   ]
  },
  {
   "cell_type": "markdown",
   "metadata": {},
   "source": [
    "##### KEY IDEAS"
   ]
  },
  {
   "cell_type": "markdown",
   "metadata": {},
   "source": [
    "The variance and standard deviation are the most widespread and routinely reported statistics of variability.\n",
    "\n",
    "Both are sensitive to outliers.\n",
    "\n",
    "More robust metrics include mean and median absolute deviations from the mean and percentiles (quantiles)."
   ]
  },
  {
   "cell_type": "markdown",
   "metadata": {},
   "source": [
    "### Exploring the Data Distribution"
   ]
  },
  {
   "cell_type": "markdown",
   "metadata": {},
   "source": [
    "##### KEY TERMS FOR EXPLORING THE DISTRIBUTION"
   ]
  },
  {
   "cell_type": "markdown",
   "metadata": {},
   "source": [
    "Boxplot:<br>\n",
    "A plot introduced by Tukey as a quick way to visualize the distribution of data.\n",
    "\n",
    "Synonyms:<br>\n",
    "Box and whiskers plot\n",
    "\n",
    "Frequency table:<br>\n",
    "A tally of the count of numeric data values that fall into a set of intervals (bins).\n",
    "\n",
    "Histogram:<br>\n",
    "A plot of the frequency table with the bins on the x-axis and the count (or proportion) on the y-axis.\n",
    "\n",
    "Density plot:<br>\n",
    "A smoothed version of the histogram, often based on a kernal density estimate."
   ]
  },
  {
   "cell_type": "markdown",
   "metadata": {},
   "source": [
    "##### Percentile"
   ]
  },
  {
   "cell_type": "code",
   "execution_count": 46,
   "metadata": {
    "collapsed": false
   },
   "outputs": [
    {
     "data": {
      "text/plain": [
       "0.05    1.600\n",
       "0.25    2.425\n",
       "0.50    4.000\n",
       "0.75    5.550\n",
       "0.95    6.510\n",
       "Name: Murder.Rate, dtype: float64"
      ]
     },
     "execution_count": 46,
     "metadata": {},
     "output_type": "execute_result"
    }
   ],
   "source": [
    "df_state['Murder.Rate'].quantile([.05, .25, .5, .75, .95])"
   ]
  },
  {
   "cell_type": "markdown",
   "metadata": {},
   "source": [
    "##### Boxplot"
   ]
  },
  {
   "cell_type": "code",
   "execution_count": 47,
   "metadata": {
    "collapsed": false,
    "scrolled": false
   },
   "outputs": [
    {
     "data": {
      "text/plain": [
       "<matplotlib.text.Text at 0x7f18cb6f7518>"
      ]
     },
     "execution_count": 47,
     "metadata": {},
     "output_type": "execute_result"
    },
    {
     "data": {
      "image/png": "[encoded data removed]",
      "text/plain": [
       "<matplotlib.figure.Figure at 0x7f18cb6e7358>"
      ]
     },
     "metadata": {},
     "output_type": "display_data"
    }
   ],
   "source": [
    "%matplotlib inline\n",
    "import matplotlib.pyplot as plt\n",
    "plt.style.use('ggplot')\n",
    "df_state[\"Population\"].plot(kind='box')\n",
    "plt.ylabel('Population (millions)')"
   ]
  },
  {
   "cell_type": "markdown",
   "metadata": {},
   "source": [
    "##### Frequency Table"
   ]
  },
  {
   "cell_type": "code",
   "execution_count": 48,
   "metadata": {
    "collapsed": false
   },
   "outputs": [
    {
     "data": {
      "text/plain": [
       "(526935.669, 3899110.545]       24\n",
       "(3899110.545, 7234595.091]      14\n",
       "(7234595.091, 10570079.636]      5\n",
       "(10570079.636, 13905564.182]     3\n",
       "(13905564.182, 17241048.727]     0\n",
       "(17241048.727, 20576533.273]     2\n",
       "(20576533.273, 23912017.818]     0\n",
       "(23912017.818, 27247502.364]     1\n",
       "(27247502.364, 30582986.909]     0\n",
       "(30582986.909, 33918471.455]     0\n",
       "(33918471.455, 37253956.0]       1\n",
       "dtype: int64"
      ]
     },
     "execution_count": 48,
     "metadata": {},
     "output_type": "execute_result"
    }
   ],
   "source": [
    "pop_binned = pd.cut(np.array(df_state[\"Population\"]), 11, right=True, include_lowest=True)\n",
    "pop_binned.value_counts()"
   ]
  },
  {
   "cell_type": "markdown",
   "metadata": {},
   "source": [
    "##### Histogram"
   ]
  },
  {
   "cell_type": "code",
   "execution_count": 49,
   "metadata": {
    "collapsed": false
   },
   "outputs": [
    {
     "data": {
      "text/plain": [
       "<matplotlib.text.Text at 0x7f18cb731cc0>"
      ]
     },
     "execution_count": 49,
     "metadata": {},
     "output_type": "execute_result"
    },
    {
     "data": {
      "image/png": "[encoded data removed]",
      "text/plain": [
       "<matplotlib.figure.Figure at 0x7f18cb6b40f0>"
      ]
     },
     "metadata": {},
     "output_type": "display_data"
    }
   ],
   "source": [
    "cuts = [intv.right for intv in pop_binned.categories]\n",
    "plt.xticks(cuts)\n",
    "plt.hist(df_state['Population'], bins=cuts)\n",
    "plt.xlabel('Population')\n",
    "plt.ylabel('Frequency')"
   ]
  },
  {
   "cell_type": "markdown",
   "metadata": {},
   "source": [
    "##### Density Estimates"
   ]
  },
  {
   "cell_type": "code",
   "execution_count": 50,
   "metadata": {
    "collapsed": false
   },
   "outputs": [
    {
     "data": {
      "text/plain": [
       "<matplotlib.text.Text at 0x7f18cb65e5f8>"
      ]
     },
     "execution_count": 50,
     "metadata": {},
     "output_type": "execute_result"
    },
    {
     "data": {
      "image/png": "[encoded data removed]",
      "text/plain": [
       "<matplotlib.figure.Figure at 0x7f18cb6bc908>"
      ]
     },
     "metadata": {},
     "output_type": "display_data"
    }
   ],
   "source": [
    "plt.hist(df_state['Murder.Rate'].values,normed=True)\n",
    "df_state['Murder.Rate'].plot(kind='density')\n",
    "plt.xlabel('Murder rate (100,000)')"
   ]
  },
  {
   "cell_type": "markdown",
   "metadata": {
    "collapsed": false
   },
   "source": [
    "##### KEY TERMS FOR EXPLORING CATEGORICAL DATA"
   ]
  },
  {
   "cell_type": "markdown",
   "metadata": {},
   "source": [
    "Mode:<br>\n",
    "The most commonly occurring category or value in a data set.\n",
    "\n",
    "Expected value:<br>\n",
    "When the categories can be associated with a numeric value, this gives an average value based on\n",
    "a category’s probability of occurrence.\n",
    "\n",
    "Bar charts:<br>\n",
    "The frequency or proportion for each category plotted as bars.\n",
    "\n",
    "Pie charts:<br>\n",
    "The frequency or proportion for each category plotted as wedges in a pie."
   ]
  },
  {
   "cell_type": "markdown",
   "metadata": {},
   "source": [
    "##### Barplot"
   ]
  },
  {
   "cell_type": "code",
   "execution_count": 51,
   "metadata": {
    "collapsed": false
   },
   "outputs": [],
   "source": [
    "dfw_file_path = os.path.join(fold_path, 'dfw_airline.csv')\n",
    "dfw = pd.read_csv(dfw_file_path)"
   ]
  },
  {
   "cell_type": "code",
   "execution_count": 52,
   "metadata": {
    "collapsed": false
   },
   "outputs": [
    {
     "data": {
      "text/plain": [
       "<matplotlib.axes._subplots.AxesSubplot at 0x7f18cb58fa58>"
      ]
     },
     "execution_count": 52,
     "metadata": {},
     "output_type": "execute_result"
    },
    {
     "data": {
      "image/png": "[encoded data removed]",
      "text/plain": [
       "<matplotlib.figure.Figure at 0x7f18d40ff668>"
      ]
     },
     "metadata": {},
     "output_type": "display_data"
    }
   ],
   "source": [
    "dfw.plot(kind='bar')"
   ]
  },
  {
   "cell_type": "markdown",
   "metadata": {},
   "source": [
    "##### Correlation"
   ]
  },
  {
   "cell_type": "code",
   "execution_count": 53,
   "metadata": {
    "collapsed": false
   },
   "outputs": [],
   "source": [
    "sp500_sym_file_path = os.path.join(fold_path, 'sp500_sym.csv')\n",
    "sp500_sym = pd.read_csv(sp500_sym_file_path)\n",
    "sp500_px_file_path = os.path.join(fold_path, 'sp500_px.csv')\n",
    "sp500_px = pd.read_csv(sp500_px_file_path, infer_datetime_format=True, index_col=0,parse_dates=True)"
   ]
  },
  {
   "cell_type": "code",
   "execution_count": 54,
   "metadata": {
    "collapsed": false
   },
   "outputs": [],
   "source": [
    "rows = sp500_px.index > '2012-07-01' \n",
    "cols = sp500_sym[sp500_sym['sector'] == 'etf']['symbol'].values\n",
    "etfs = sp500_px.loc[rows,cols]"
   ]
  },
  {
   "cell_type": "code",
   "execution_count": 55,
   "metadata": {
    "collapsed": false
   },
   "outputs": [
    {
     "data": {
      "text/plain": [
       "<matplotlib.axes._subplots.AxesSubplot at 0x7f18caa08080>"
      ]
     },
     "execution_count": 55,
     "metadata": {},
     "output_type": "execute_result"
    },
    {
     "data": {
      "image/png": "[encoded data removed]",
      "text/plain": [
       "<matplotlib.figure.Figure at 0x7f18caeda6d8>"
      ]
     },
     "metadata": {},
     "output_type": "display_data"
    }
   ],
   "source": [
    "import seaborn as sns\n",
    "corr = etfs.corr()\n",
    "cmap = sns.diverging_palette(10, 220, as_cmap=True)\n",
    "sns.heatmap(corr, \n",
    "            xticklabels=corr.columns.values,\n",
    "            yticklabels=corr.columns.values,cmap=cmap)"
   ]
  },
  {
   "cell_type": "markdown",
   "metadata": {},
   "source": [
    "##### Scatterplot"
   ]
  },
  {
   "cell_type": "code",
   "execution_count": 56,
   "metadata": {
    "collapsed": false
   },
   "outputs": [
    {
     "data": {
      "text/plain": [
       "<matplotlib.text.Text at 0x7f18ca9b4e80>"
      ]
     },
     "execution_count": 56,
     "metadata": {},
     "output_type": "execute_result"
    },
    {
     "data": {
      "image/png": "[encoded data removed]",
      "text/plain": [
       "<matplotlib.figure.Figure at 0x7f18cb614da0>"
      ]
     },
     "metadata": {},
     "output_type": "display_data"
    }
   ],
   "source": [
    "# telecom <- sp500_px[, sp500_sym[sp500_sym$sector==\"telecommunications_services\", 'symbol']]\n",
    "cols = sp500_sym[sp500_sym['sector']=='telecommunications_services']['symbol'].values\n",
    "telecom = sp500_px[cols]\n",
    "plt.scatter(telecom['T'], telecom['VZ'])\n",
    "plt.ylabel('T')\n",
    "plt.xlabel('VZ')"
   ]
  },
  {
   "cell_type": "markdown",
   "metadata": {},
   "source": [
    "### KEY IDEAS FOR CORRELATION"
   ]
  },
  {
   "cell_type": "markdown",
   "metadata": {},
   "source": [
    "The correlation coefficient measures the extent to which two variables are associated with one another.\n",
    "\n",
    "When high values of v1 go with high values of v2, v1 and v2 are positively associated.\n",
    "\n",
    "When high values of v1 are associated with low values of v2, v1 and v2 are negatively associated.\n",
    "\n",
    "The correlation coefficient is a standardized metric so that it always ranges from –1 (perfect negative correlation) to +1 (perfect positive correlation).\n",
    "\n",
    "A correlation coefficient of 0 indicates no correlation, but be aware that random arrangements of data will produce both positive and negative values for the correlation coefficient just by chance."
   ]
  },
  {
   "cell_type": "code",
   "execution_count": null,
   "metadata": {
    "collapsed": true
   },
   "outputs": [],
   "source": []
  }
 ],
 "metadata": {
  "anaconda-cloud": {},
  "kernelspec": {
   "display_name": "Python [conda root]",
   "language": "python",
   "name": "conda-root-py"
  },
  "language_info": {
   "codemirror_mode": {
    "name": "ipython",
    "version": 3
   },
   "file_extension": ".py",
   "mimetype": "text/x-python",
   "name": "python",
   "nbconvert_exporter": "python",
   "pygments_lexer": "ipython3",
   "version": "3.5.2"
  }
 },
 "nbformat": 4,
 "nbformat_minor": 2
}
